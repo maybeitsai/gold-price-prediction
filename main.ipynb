{
 "cells": [
  {
   "cell_type": "markdown",
   "id": "617ddf05",
   "metadata": {},
   "source": [
    "## **Data Understanding**"
   ]
  },
  {
   "cell_type": "markdown",
   "id": "789fa596",
   "metadata": {},
   "source": [
    "### 1. Deskripsi Dataset\n",
    "\n",
    "* **Nama File**: `gold_1994-2023.xlsx`\n",
    "* **Jumlah Baris**: 30\n",
    "* **Jumlah Kolom**: 15\n",
    "* **Periode Data**: 1994 – 2023\n",
    "* **Topik Data**: Faktor makroekonomi dan komoditas yang berkaitan dengan **harga emas**.\n",
    "\n",
    "---\n",
    "\n",
    "### 2. Struktur Dataset\n",
    "\n",
    "| Kolom        | Tipe Data | Keterangan                                     |\n",
    "| ------------ | --------- | ---------------------------------------------- |\n",
    "| `year`       | int64     | Tahun pengamatan (1994–2023)                   |\n",
    "| `gold_price` | object    | Harga emas (perlu dibersihkan menjadi numerik) |\n",
    "| `fed_rate`   | float64   | Suku bunga The Fed (%)                         |\n",
    "| `inflation`  | float64   | Tingkat inflasi (%)                            |\n",
    "| `ec_growth`  | float64   | Pertumbuhan ekonomi (%)                        |\n",
    "| `exch_rate`  | float64   | Nilai tukar Rupiah per USD                     |\n",
    "| `real_int`   | float64   | Suku bunga riil (%)                            |\n",
    "| `gdp_def`    | float64   | Deflator PDB (%)                               |\n",
    "| `cpo`        | float64   | Harga Crude Palm Oil (CPO)                     |\n",
    "| `tin`        | float64   | Harga timah (Tin)                              |\n",
    "| `lend_int`   | float64   | Suku bunga pinjaman (%)                        |\n",
    "| `Aluminium`  | float64   | Harga aluminium                                |\n",
    "| `Nickel`     | float64   | Harga nikel                                    |\n",
    "| `Platinum`   | float64   | Harga platinum                                 |\n",
    "| `Perak`      | float64   | Harga perak (silver)                           |\n",
    "\n",
    "---\n",
    "\n",
    "### 3. Kualitas Data\n",
    "\n",
    "* **Missing Values**: Tidak ada missing values di semua kolom.\n",
    "* **Inconsistent Data**:\n",
    "\n",
    "  * `gold_price` masih dalam format **object**, kemungkinan mengandung tanda pemisah ribuan/koma → perlu dikonversi ke numerik.\n",
    "\n",
    "---\n",
    "\n",
    "### 4. Statistik Deskriptif\n",
    "\n",
    "#### a. Variabel Utama (contoh ringkasan)\n",
    "\n",
    "* **Tahun (`year`)**: 1994 – 2023\n",
    "* **Harga Emas (`gold_price`)**: 30 nilai unik (setiap tahun berbeda, perlu dibersihkan)\n",
    "* **Fed Rate (`fed_rate`)**: Rata-rata 2.47%, min 0.08%, max 6.24%\n",
    "* **Inflasi (`inflation`)**: Rata-rata 8.48%, min 1.56%, max 58.45%\n",
    "* **Pertumbuhan Ekonomi (`ec_growth`)**: Rata-rata 4.44%, min -13.12%, max 8.22%\n",
    "\n",
    "#### b. Variabel Komoditas (contoh ringkasan)\n",
    "\n",
    "* **CPO**: Rata-rata 54.9\n",
    "* **Timah (`tin`)**: Rata-rata 14,534\n",
    "* **Aluminium**: Rata-rata 1,884\n",
    "* **Nikel**: Rata-rata 14,304\n",
    "* **Platinum**: Rata-rata 934\n",
    "* **Perak (Silver)**: Rata-rata 14.8\n",
    "\n",
    "---\n",
    "\n",
    "### 5. Insight Awal\n",
    "\n",
    "* Dataset berfokus pada **hubungan harga emas** dengan faktor makroekonomi dan harga komoditas lain.\n",
    "* Potensi analisis:\n",
    "\n",
    "  * Korelasi harga emas dengan inflasi, suku bunga, nilai tukar.\n",
    "  * Hubungan harga emas dengan komoditas lain (CPO, timah, aluminium, nikel, platinum, perak).\n",
    "* Langkah pembersihan:\n",
    "\n",
    "  * Konversi `gold_price` menjadi numerik.\n",
    "\n",
    "---"
   ]
  },
  {
   "cell_type": "markdown",
   "id": "fbe849f8",
   "metadata": {},
   "source": [
    "## **Data Processing**"
   ]
  },
  {
   "cell_type": "markdown",
   "id": "ef560a9e",
   "metadata": {},
   "source": [
    "### Classic Test"
   ]
  },
  {
   "cell_type": "markdown",
   "id": "7e01e167",
   "metadata": {},
   "source": [
    "### Heterokedastatis Test"
   ]
  },
  {
   "cell_type": "markdown",
   "id": "a31ed0c8",
   "metadata": {},
   "source": [
    "### Autocorrelation Test "
   ]
  },
  {
   "cell_type": "markdown",
   "id": "158fd986",
   "metadata": {},
   "source": [
    "### Multi CorrelationTtest"
   ]
  },
  {
   "cell_type": "markdown",
   "id": "db7843cf",
   "metadata": {},
   "source": [
    "### Econometric Test"
   ]
  },
  {
   "cell_type": "markdown",
   "id": "250e1cf7",
   "metadata": {},
   "source": [
    "## **Modelling**"
   ]
  },
  {
   "cell_type": "markdown",
   "id": "602fe3a1",
   "metadata": {},
   "source": [
    "### Arima"
   ]
  },
  {
   "cell_type": "markdown",
   "id": "b1ee744a",
   "metadata": {},
   "source": [
    "### Sarima"
   ]
  },
  {
   "cell_type": "markdown",
   "id": "8c87fbb2",
   "metadata": {},
   "source": [
    "### Arimax"
   ]
  },
  {
   "cell_type": "markdown",
   "id": "ca4ffa1a",
   "metadata": {},
   "source": [
    "### Var"
   ]
  },
  {
   "cell_type": "markdown",
   "id": "ea135c35",
   "metadata": {},
   "source": [
    "## **Data Analysis**"
   ]
  },
  {
   "cell_type": "markdown",
   "id": "63bc8271",
   "metadata": {},
   "source": [
    "## **Conclusion**"
   ]
  }
 ],
 "metadata": {
  "language_info": {
   "name": "python"
  }
 },
 "nbformat": 4,
 "nbformat_minor": 5
}
