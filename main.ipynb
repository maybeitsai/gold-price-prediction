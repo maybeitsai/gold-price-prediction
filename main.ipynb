{
  "cells": [
    {
      "cell_type": "markdown",
      "id": "1eb38721",
      "metadata": {
        "id": "1eb38721"
      },
      "source": [
        "# **GOLD PRICE ANALYSIS PROJECT (1994-2023)**"
      ]
    },
    {
      "cell_type": "markdown",
      "id": "617ddf05",
      "metadata": {
        "id": "617ddf05"
      },
      "source": [
        "## **Data Understanding**"
      ]
    },
    {
      "cell_type": "markdown",
      "id": "789fa596",
      "metadata": {
        "id": "789fa596"
      },
      "source": [
        "### 1. Deskripsi Dataset\n",
        "\n",
        "* **Nama File**: `gold_1994-2023.xlsx`\n",
        "* **Jumlah Baris**: 30\n",
        "* **Jumlah Kolom**: 15\n",
        "* **Periode Data**: 1994 – 2023\n",
        "* **Topik Data**: Faktor makroekonomi dan komoditas yang berkaitan dengan **harga emas**.\n",
        "\n",
        "---\n",
        "\n",
        "### 2. Struktur Dataset\n",
        "\n",
        "| Kolom        | Tipe Data | Keterangan                                     |\n",
        "| ------------ | --------- | ---------------------------------------------- |\n",
        "| `year`       | int64     | Tahun pengamatan (1994–2023)                   |\n",
        "| `gold_price` | object    | Harga emas (perlu dibersihkan menjadi numerik) |\n",
        "| `fed_rate`   | float64   | Suku bunga The Fed (%)                         |\n",
        "| `inflation`  | float64   | Tingkat inflasi (%)                            |\n",
        "| `ec_growth`  | float64   | Pertumbuhan ekonomi (%)                        |\n",
        "| `exch_rate`  | float64   | Nilai tukar Rupiah per USD                     |\n",
        "| `real_int`   | float64   | Suku bunga riil (%)                            |\n",
        "| `gdp_def`    | float64   | Deflator PDB (%)                               |\n",
        "| `cpo`        | float64   | Harga Crude Palm Oil (CPO)                     |\n",
        "| `tin`        | float64   | Harga timah (Tin)                              |\n",
        "| `lend_int`   | float64   | Suku bunga pinjaman (%)                        |\n",
        "| `Aluminium`  | float64   | Harga aluminium                                |\n",
        "| `Nickel`     | float64   | Harga nikel                                    |\n",
        "| `Platinum`   | float64   | Harga platinum                                 |\n",
        "| `Perak`      | float64   | Harga perak (silver)                           |\n",
        "\n",
        "---\n",
        "\n",
        "### 3. Kualitas Data\n",
        "\n",
        "* **Missing Values**: Tidak ada missing values di semua kolom.\n",
        "* **Inconsistent Data**:\n",
        "\n",
        "  * `gold_price` masih dalam format **object**, kemungkinan mengandung tanda pemisah ribuan/koma → perlu dikonversi ke numerik.\n",
        "\n",
        "---\n",
        "\n",
        "### 4. Statistik Deskriptif\n",
        "\n",
        "#### a. Variabel Utama (contoh ringkasan)\n",
        "\n",
        "* **Tahun (`year`)**: 1994 – 2023\n",
        "* **Harga Emas (`gold_price`)**: 30 nilai unik (setiap tahun berbeda, perlu dibersihkan)\n",
        "* **Fed Rate (`fed_rate`)**: Rata-rata 2.47%, min 0.08%, max 6.24%\n",
        "* **Inflasi (`inflation`)**: Rata-rata 8.48%, min 1.56%, max 58.45%\n",
        "* **Pertumbuhan Ekonomi (`ec_growth`)**: Rata-rata 4.44%, min -13.12%, max 8.22%\n",
        "\n",
        "#### b. Variabel Komoditas (contoh ringkasan)\n",
        "\n",
        "* **CPO**: Rata-rata 54.9\n",
        "* **Timah (`tin`)**: Rata-rata 14,534\n",
        "* **Aluminium**: Rata-rata 1,884\n",
        "* **Nikel**: Rata-rata 14,304\n",
        "* **Platinum**: Rata-rata 934\n",
        "* **Perak (Silver)**: Rata-rata 14.8\n",
        "\n",
        "---\n",
        "\n",
        "### 5. Insight Awal\n",
        "\n",
        "* Dataset berfokus pada **hubungan harga emas** dengan faktor makroekonomi dan harga komoditas lain.\n",
        "* Potensi analisis:\n",
        "\n",
        "  * Korelasi harga emas dengan inflasi, suku bunga, nilai tukar.\n",
        "  * Hubungan harga emas dengan komoditas lain (CPO, timah, aluminium, nikel, platinum, perak).\n",
        "\n",
        "---"
      ]
    },
    {
      "cell_type": "markdown",
      "id": "XnsWT7j8p9pD",
      "metadata": {
        "id": "XnsWT7j8p9pD"
      },
      "source": [
        "## **Data Preparation**"
      ]
    },
    {
      "cell_type": "markdown",
      "id": "1755605d",
      "metadata": {
        "id": "1755605d"
      },
      "source": [
        "### Download Data"
      ]
    },
    {
      "cell_type": "markdown",
      "id": "ucygbCpjPtoX",
      "metadata": {
        "id": "ucygbCpjPtoX"
      },
      "source": [
        "> ⚠️ **PERINGATAN**  \n",
        "> PyCaret **tidak mendukung Python 3.12**.  \n",
        "> Gunakan runtime **2025.07 (Python 3.11.13)** agar PyCaret dapat di-install dan dijalankan dengan normal.\n",
        "\n",
        ">🔄 **Cara Mengubah Versi Runtime di Google Colab**\n",
        ">\n",
        ">1. Klik menu **Runtime** (atau **Runtime / Runtime Type** pada tampilan bahasa Inggris).  \n",
        ">2. Pilih **Change runtime type**.  \n",
        ">3. Pada bagian **Runtime version**, pilih:  \n",
        ">   - **2025.07 — Python 3.11.13** ✅  \n",
        ">   - **Jangan gunakan versi terbaru (Python 3.12)** ❌  \n",
        ">4. Klik **Save** dan **Restart runtime**.  \n",
        ">5. Setelah runtime aktif, install kembali library yang dibutuhkan.\n",
        "\n"
      ]
    },
    {
      "cell_type": "code",
      "execution_count": null,
      "id": "jScJ7EbLQ7x2",
      "metadata": {
        "colab": {
          "base_uri": "https://localhost:8080/"
        },
        "id": "jScJ7EbLQ7x2",
        "outputId": "59acdbb1-441d-438d-de6d-469a2e1f07ff"
      },
      "outputs": [
        {
          "name": "stdout",
          "output_type": "stream",
          "text": [
            "Cloning into 'gold-price-prediction'...\n",
            "remote: Enumerating objects: 22, done.\u001b[K\n",
            "remote: Counting objects: 100% (22/22), done.\u001b[K\n",
            "remote: Compressing objects: 100% (17/17), done.\u001b[K\n",
            "remote: Total 22 (delta 3), reused 21 (delta 2), pack-reused 0 (from 0)\u001b[K\n",
            "Receiving objects: 100% (22/22), 1.14 MiB | 7.24 MiB/s, done.\n",
            "Resolving deltas: 100% (3/3), done.\n",
            "mv: cannot move 'gold-price-prediction/data' to './data': Directory not empty\n",
            ".:\n",
            "data  logs.log\trequirements.txt  sample_data\n",
            "\n",
            "./data:\n",
            "gold_1994-2023.xlsx\n",
            "\n",
            "./sample_data:\n",
            "anscombe.json\t\t      mnist_test.csv\n",
            "california_housing_test.csv   mnist_train_small.csv\n",
            "california_housing_train.csv  README.md\n"
          ]
        }
      ],
      "source": [
        "# 1. Clone repo\n",
        "!git clone https://github.com/maybeitsai/gold-price-prediction.git\n",
        "\n",
        "# 2. Pindahkan requirements.txt ke root Colab\n",
        "!mv gold-price-prediction/requirements.txt .\n",
        "\n",
        "# 3. Pindahkan folder data ke root Colab\n",
        "!mv gold-price-prediction/data .\n",
        "\n",
        "# 4. Hapus folder repo agar tidak menumpuk\n",
        "!rm -rf gold-price-prediction\n",
        "\n",
        "# 5. Cek hasil\n",
        "!ls -R"
      ]
    },
    {
      "cell_type": "code",
      "execution_count": null,
      "id": "sd7rs9sROudP",
      "metadata": {
        "colab": {
          "base_uri": "https://localhost:8080/"
        },
        "id": "sd7rs9sROudP",
        "outputId": "8d0653fb-cd85-4f49-8dcc-6eaf50109912"
      },
      "outputs": [
        {
          "name": "stdout",
          "output_type": "stream",
          "text": [
            "Requirement already satisfied: uv in /usr/local/lib/python3.11/dist-packages (0.8.22)\n",
            "\u001b[2mUsing Python 3.11.13 environment at: /usr\u001b[0m\n",
            "\u001b[2K\u001b[2mResolved \u001b[1m67 packages\u001b[0m \u001b[2min 165ms\u001b[0m\u001b[0m\n",
            "\u001b[2mUninstalled \u001b[1m3 packages\u001b[0m \u001b[2min 134ms\u001b[0m\u001b[0m\n",
            "\u001b[2K\u001b[2mInstalled \u001b[1m3 packages\u001b[0m \u001b[2min 92ms\u001b[0m\u001b[0m\n",
            " \u001b[31m-\u001b[39m \u001b[1mmatplotlib\u001b[0m\u001b[2m==3.7.5\u001b[0m\n",
            " \u001b[32m+\u001b[39m \u001b[1mmatplotlib\u001b[0m\u001b[2m==3.10.6\u001b[0m\n",
            " \u001b[31m-\u001b[39m \u001b[1mpandas\u001b[0m\u001b[2m==2.1.4\u001b[0m\n",
            " \u001b[32m+\u001b[39m \u001b[1mpandas\u001b[0m\u001b[2m==2.2.2\u001b[0m\n",
            " \u001b[31m-\u001b[39m \u001b[1mscipy\u001b[0m\u001b[2m==1.11.4\u001b[0m\n",
            " \u001b[32m+\u001b[39m \u001b[1mscipy\u001b[0m\u001b[2m==1.16.2\u001b[0m\n"
          ]
        }
      ],
      "source": [
        "!pip install uv\n",
        "!uv pip install -r requirements.txt"
      ]
    },
    {
      "cell_type": "code",
      "execution_count": null,
      "id": "yh9nzuVvTZI-",
      "metadata": {
        "colab": {
          "base_uri": "https://localhost:8080/"
        },
        "id": "yh9nzuVvTZI-",
        "outputId": "4866772c-d595-406d-b1f2-15f19ea4de61"
      },
      "outputs": [
        {
          "name": "stdout",
          "output_type": "stream",
          "text": [
            "\u001b[2mUsing Python 3.11.13 environment at: /usr\u001b[0m\n",
            "\u001b[2K\u001b[2mResolved \u001b[1m358 packages\u001b[0m \u001b[2min 679ms\u001b[0m\u001b[0m\n",
            "\u001b[2mUninstalled \u001b[1m3 packages\u001b[0m \u001b[2min 116ms\u001b[0m\u001b[0m\n",
            "\u001b[2K\u001b[2mInstalled \u001b[1m3 packages\u001b[0m \u001b[2min 139ms\u001b[0m\u001b[0m\n",
            " \u001b[31m-\u001b[39m \u001b[1mmatplotlib\u001b[0m\u001b[2m==3.10.6\u001b[0m\n",
            " \u001b[32m+\u001b[39m \u001b[1mmatplotlib\u001b[0m\u001b[2m==3.7.5\u001b[0m\n",
            " \u001b[31m-\u001b[39m \u001b[1mpandas\u001b[0m\u001b[2m==2.2.2\u001b[0m\n",
            " \u001b[32m+\u001b[39m \u001b[1mpandas\u001b[0m\u001b[2m==2.1.4\u001b[0m\n",
            " \u001b[31m-\u001b[39m \u001b[1mscipy\u001b[0m\u001b[2m==1.16.2\u001b[0m\n",
            " \u001b[32m+\u001b[39m \u001b[1mscipy\u001b[0m\u001b[2m==1.11.4\u001b[0m\n"
          ]
        }
      ],
      "source": [
        "!uv pip install pycaret[full]"
      ]
    },
    {
      "cell_type": "code",
      "execution_count": null,
      "id": "6ee07a57",
      "metadata": {
        "id": "6ee07a57"
      },
      "outputs": [],
      "source": [
        "# import os\n",
        "# import gdown\n",
        "\n",
        "# # Buat folder data jika belum ada\n",
        "# os.makedirs(\"data\", exist_ok=True)\n",
        "\n",
        "# # Link Google Drive (ubah ke format file-id)\n",
        "# url = \"https://drive.google.com/uc?id=12DTi1juIAjzv7QL1oFzsMaubsa9kJQhO\"\n",
        "# output = \"data/gold_1994-2023.xlsx\"\n",
        "\n",
        "# # Download hanya jika file belum ada\n",
        "# if not os.path.exists(output):\n",
        "#     gdown.download(url, output, quiet=False)\n",
        "#     print(f\"File berhasil diunduh dan disimpan di {output}\")\n",
        "# else:\n",
        "#     print(f\"File sudah ada di {output}, skip download.\")"
      ]
    },
    {
      "cell_type": "markdown",
      "id": "6c742519",
      "metadata": {
        "id": "6c742519"
      },
      "source": [
        "### Import Libraries"
      ]
    },
    {
      "cell_type": "code",
      "execution_count": null,
      "id": "ae7247db",
      "metadata": {
        "id": "ae7247db"
      },
      "outputs": [],
      "source": [
        "# ============================================================================\n",
        "# IMPORT LIBRARIES\n",
        "# ============================================================================\n",
        "import pandas as pd\n",
        "import numpy as np\n",
        "import matplotlib.pyplot as plt\n",
        "import seaborn as sns\n",
        "\n",
        "# Statistical Tests\n",
        "from scipy import stats\n",
        "from scipy.stats import normaltest, shapiro, jarque_bera\n",
        "from statsmodels.stats.diagnostic import het_breuschpagan, acorr_ljungbox\n",
        "from statsmodels.stats.stattools import durbin_watson\n",
        "from statsmodels.stats.outliers_influence import variance_inflation_factor\n",
        "\n",
        "# Time Series\n",
        "from statsmodels.tsa.stattools import adfuller, kpss, grangercausalitytests\n",
        "from statsmodels.tsa.arima.model import ARIMA\n",
        "from statsmodels.tsa.vector_ar.var_model import VAR\n",
        "from statsmodels.tsa.vector_ar.vecm import VECM, coint_johansen\n",
        "\n",
        "# from arch import arch_model\n",
        "\n",
        "# Machine Learning\n",
        "from sklearn.ensemble import RandomForestRegressor, GradientBoostingRegressor\n",
        "from sklearn.svm import SVR\n",
        "from sklearn.preprocessing import MinMaxScaler, StandardScaler\n",
        "from sklearn.metrics import mean_squared_error, mean_absolute_error, r2_score\n",
        "from sklearn.model_selection import train_test_split\n",
        "import xgboost as xgb\n",
        "\n",
        "# Deep Learning\n",
        "try:\n",
        "    from tensorflow import keras\n",
        "    from tensorflow.keras.models import Sequential\n",
        "    from tensorflow.keras.layers import Dense, LSTM, Dropout, Conv1D, MaxPooling1D, Flatten\n",
        "    from tensorflow.keras.callbacks import EarlyStopping\n",
        "    KERAS_AVAILABLE = True\n",
        "except:\n",
        "    KERAS_AVAILABLE = False\n",
        "    print(\"TensorFlow/Keras not available. LSTM, ANN, and CNN-LSTM models will be skipped.\")\n",
        "\n",
        "# Set style\n",
        "plt.style.use('seaborn-v0_8-darkgrid')\n",
        "sns.set_palette(\"husl\")\n",
        "\n",
        "# Warning Handling\n",
        "import warnings\n",
        "warnings.filterwarnings('ignore')"
      ]
    },
    {
      "cell_type": "markdown",
      "id": "f31a471c",
      "metadata": {
        "id": "f31a471c"
      },
      "source": [
        "### Seeding"
      ]
    },
    {
      "cell_type": "code",
      "execution_count": null,
      "id": "57758d9c",
      "metadata": {
        "colab": {
          "base_uri": "https://localhost:8080/"
        },
        "id": "57758d9c",
        "outputId": "fa089309-35ef-45bb-a770-a2ff100576b4"
      },
      "outputs": [
        {
          "name": "stdout",
          "output_type": "stream",
          "text": [
            "Global seeding berhasil dengan SEED=42\n"
          ]
        }
      ],
      "source": [
        "# ============================================================================\n",
        "# GLOBAL SEEDING\n",
        "# ============================================================================\n",
        "import os\n",
        "import random\n",
        "import numpy as np\n",
        "\n",
        "SEED = 42  # bisa ganti angka seed sesuai kebutuhan\n",
        "\n",
        "# Python & OS\n",
        "os.environ[\"PYTHONHASHSEED\"] = str(SEED)\n",
        "random.seed(SEED)\n",
        "\n",
        "# Numpy\n",
        "np.random.seed(SEED)\n",
        "\n",
        "# XGBoost\n",
        "import xgboost as xgb\n",
        "xgb_rng = np.random.RandomState(SEED)\n",
        "\n",
        "# TensorFlow / Keras (jika tersedia)\n",
        "try:\n",
        "    import tensorflow as tf\n",
        "    tf.random.set_seed(SEED)\n",
        "except:\n",
        "    pass\n",
        "\n",
        "print(f\"Global seeding berhasil dengan SEED={SEED}\")\n"
      ]
    },
    {
      "cell_type": "markdown",
      "id": "ffa599d3",
      "metadata": {
        "id": "ffa599d3"
      },
      "source": [
        "## **Eksploratory Data Analysis (EDA)**"
      ]
    },
    {
      "cell_type": "code",
      "execution_count": null,
      "id": "3d73ff2e",
      "metadata": {
        "id": "3d73ff2e"
      },
      "outputs": [],
      "source": [
        "# Load data\n",
        "df = pd.read_excel('data/gold_1994-2023.xlsx')"
      ]
    },
    {
      "cell_type": "code",
      "execution_count": null,
      "id": "4074fc6a",
      "metadata": {
        "colab": {
          "base_uri": "https://localhost:8080/"
        },
        "id": "4074fc6a",
        "outputId": "2f94f30c-a302-43e3-91a7-67bae8633cea"
      },
      "outputs": [
        {
          "name": "stdout",
          "output_type": "stream",
          "text": [
            "\n",
            "0.1.1 DESKRIPSI DATASET\n",
            "--------------------------------------------------------------------------------\n",
            "Nama File: gold_1994-2023.xlsx\n",
            "Jumlah Baris: 30\n",
            "Jumlah Kolom: 16\n",
            "Periode Data: 1994 - 2023\n"
          ]
        }
      ],
      "source": [
        "print(\"\\n0.1.1 DESKRIPSI DATASET\")\n",
        "print(\"-\"*80)\n",
        "print(f\"Nama File: gold_1994-2023.xlsx\")\n",
        "print(f\"Jumlah Baris: {df.shape[0]}\")\n",
        "print(f\"Jumlah Kolom: {df.shape[1]}\")\n",
        "print(f\"Periode Data: {df['year'].min()} - {df['year'].max()}\")"
      ]
    },
    {
      "cell_type": "code",
      "execution_count": null,
      "id": "bda0d3e1",
      "metadata": {
        "colab": {
          "base_uri": "https://localhost:8080/"
        },
        "id": "bda0d3e1",
        "outputId": "72d2240b-dc3b-4af2-82ab-a7dab2b702c8"
      },
      "outputs": [
        {
          "name": "stdout",
          "output_type": "stream",
          "text": [
            "\n",
            "0.1.2 STRUKTUR DATASET\n",
            "--------------------------------------------------------------------------------\n",
            "<class 'pandas.core.frame.DataFrame'>\n",
            "RangeIndex: 30 entries, 0 to 29\n",
            "Data columns (total 16 columns):\n",
            " #   Column       Non-Null Count  Dtype  \n",
            "---  ------       --------------  -----  \n",
            " 0   year         30 non-null     int64  \n",
            " 1   gold_price   30 non-null     float64\n",
            " 2   fed_rate     30 non-null     float64\n",
            " 3   inflation    30 non-null     float64\n",
            " 4   ec_growth    30 non-null     float64\n",
            " 5   exch_rate    30 non-null     float64\n",
            " 6   real_int     30 non-null     float64\n",
            " 7   gdp_def      30 non-null     float64\n",
            " 8   cpo          30 non-null     float64\n",
            " 9   tin          30 non-null     float64\n",
            " 10  lend_int     30 non-null     float64\n",
            " 11  Aluminium    30 non-null     float64\n",
            " 12  Nickel       30 non-null     float64\n",
            " 13  Platinum     30 non-null     float64\n",
            " 14  Perak        30 non-null     float64\n",
            " 15  Unnamed: 15  1 non-null      object \n",
            "dtypes: float64(14), int64(1), object(1)\n",
            "memory usage: 3.9+ KB\n",
            "None\n",
            "\n",
            "First 5 rows:\n",
            "   year  gold_price  fed_rate  inflation  ec_growth     exch_rate   real_int  \\\n",
            "0  1994  384.010000      4.21   8.532005   7.539971   2160.753675   9.263077   \n",
            "1  1995  384.164167      5.83   9.420323   8.220007   2248.607975   8.162955   \n",
            "2  1996  387.695833      5.30   7.973281   7.818187   2342.296292   9.699419   \n",
            "3  1997  331.095833      5.46   6.226142   4.699879   2909.380000   8.213565   \n",
            "4  1998  294.160833      5.35  58.451044 -13.126725  10013.622500 -24.600168   \n",
            "\n",
            "     gdp_def        cpo          tin   lend_int    Aluminium       Nickel  \\\n",
            "0   7.776573  15.886667  5463.850000  17.760000  1476.782500  6339.820000   \n",
            "1   9.882045  17.183333  6213.808333  18.851667  1805.657500  8228.039167   \n",
            "2   8.676510  20.420000  6165.075000  19.217500  1505.660833  7500.816667   \n",
            "3  12.571376  19.171043  5646.766667  21.817500  1599.330000  6927.385833   \n",
            "4  75.271169  13.064442  5540.333333  32.154167  1357.469167  4629.523333   \n",
            "\n",
            "     Platinum     Perak Unnamed: 15  \n",
            "0  405.261667  5.200242         NaN  \n",
            "1  424.336667  5.201300         NaN  \n",
            "2  397.112500  4.906033         NaN  \n",
            "3  394.915000  5.550792         NaN  \n",
            "4  372.278333  5.215458         NaN  \n"
          ]
        }
      ],
      "source": [
        "print(\"\\n0.1.2 STRUKTUR DATASET\")\n",
        "print(\"-\"*80)\n",
        "print(df.info())\n",
        "print(\"\\nFirst 5 rows:\")\n",
        "print(df.head())"
      ]
    },
    {
      "cell_type": "code",
      "execution_count": null,
      "id": "86b54cb0",
      "metadata": {
        "id": "86b54cb0"
      },
      "outputs": [],
      "source": [
        "# Remove unnamed columns if any\n",
        "df = df.loc[:, ~df.columns.str.contains('^Unnamed')]\n",
        "\n",
        "# Clean gold_price column (remove comma/thousands separator)\n",
        "if df['gold_price'].dtype == 'object':\n",
        "    df['gold_price'] = df['gold_price'].str.replace(',', '').str.replace('.', '').astype(float)"
      ]
    },
    {
      "cell_type": "code",
      "execution_count": null,
      "id": "c1f62d6a",
      "metadata": {
        "colab": {
          "base_uri": "https://localhost:8080/"
        },
        "id": "c1f62d6a",
        "outputId": "276bce95-c35d-4e8d-c80d-0e19cf3b8a0f"
      },
      "outputs": [
        {
          "name": "stdout",
          "output_type": "stream",
          "text": [
            "\n",
            "0.1.3 KUALITAS DATA\n",
            "--------------------------------------------------------------------------------\n",
            "Missing Values:\n",
            "year          0\n",
            "gold_price    0\n",
            "fed_rate      0\n",
            "inflation     0\n",
            "ec_growth     0\n",
            "exch_rate     0\n",
            "real_int      0\n",
            "gdp_def       0\n",
            "cpo           0\n",
            "tin           0\n",
            "lend_int      0\n",
            "Aluminium     0\n",
            "Nickel        0\n",
            "Platinum      0\n",
            "Perak         0\n",
            "dtype: int64\n",
            "\n",
            "Total Missing Values: 0\n"
          ]
        }
      ],
      "source": [
        "print(\"\\n0.1.3 KUALITAS DATA\")\n",
        "print(\"-\"*80)\n",
        "print(\"Missing Values:\")\n",
        "print(df.isnull().sum())\n",
        "print(f\"\\nTotal Missing Values: {df.isnull().sum().sum()}\")\n"
      ]
    },
    {
      "cell_type": "code",
      "execution_count": null,
      "id": "756ad603",
      "metadata": {
        "colab": {
          "base_uri": "https://localhost:8080/"
        },
        "id": "756ad603",
        "outputId": "93c1fc14-bca3-4b10-cc04-aa3ca9447780"
      },
      "outputs": [
        {
          "name": "stdout",
          "output_type": "stream",
          "text": [
            "\n",
            "0.1.4 STATISTIK DESKRIPTIF\n",
            "--------------------------------------------------------------------------------\n",
            "              year   gold_price  fed_rate  inflation  ec_growth     exch_rate  \\\n",
            "count    30.000000    30.000000  30.00000  30.000000  30.000000     30.000000   \n",
            "mean   2008.500000   935.523338   2.46600   8.481230   4.438370   9938.259521   \n",
            "std       8.803408   573.425888   2.21228  10.233847   3.821554   3754.664354   \n",
            "min    1994.000000   270.989167   0.08000   1.560130 -13.126725   2160.753675   \n",
            "25%    2001.250000   384.048542   0.22750   3.908965   4.720001   8812.537500   \n",
            "50%    2008.500000   922.336583   1.76000   6.294631   5.040587   9701.852083   \n",
            "75%    2015.750000  1361.680417   4.97000   9.198244   5.933421  13362.707110   \n",
            "max    2023.000000  1942.665833   6.24000  58.451044   8.220007  15236.884662   \n",
            "\n",
            "        real_int    gdp_def         cpo           tin   lend_int    Aluminium  \\\n",
            "count  30.000000  30.000000   30.000000     30.000000  30.000000    30.000000   \n",
            "mean    4.686524  10.628085   54.938804  14534.011263  15.020361  1884.282286   \n",
            "std     6.983916  13.264626   30.547816   8598.288638   5.400504   418.902411   \n",
            "min   -24.600168  -0.401651   13.064442   4060.500000   8.520000  1349.915000   \n",
            "25%     2.443062   4.461006   25.753241   5776.343750  11.691875  1561.688125   \n",
            "50%     6.486407   8.025663   53.098012  15301.733083  13.730000  1800.072917   \n",
            "75%     8.559531  13.708412   77.059719  20340.518896  18.281250  2156.956500   \n",
            "max    12.322412  75.271169  105.009629  32384.148333  32.154167  2705.019167   \n",
            "\n",
            "             Nickel     Platinum      Perak  \n",
            "count     30.000000    30.000000  30.000000  \n",
            "mean   14304.386678   934.226782  14.796726  \n",
            "std     7453.480609   413.633140   8.856077  \n",
            "min     4629.523333   372.278333   4.376000  \n",
            "25%     8330.464167   540.793333   5.299292  \n",
            "50%    13805.248708   922.490833  15.355142  \n",
            "75%    18235.610887  1187.745625  20.440677  \n",
            "max    37229.806750  1719.481667  35.224117  \n"
          ]
        }
      ],
      "source": [
        "print(\"\\n0.1.4 STATISTIK DESKRIPTIF\")\n",
        "print(\"-\"*80)\n",
        "print(df.describe())"
      ]
    },
    {
      "cell_type": "code",
      "execution_count": null,
      "id": "f75a0fa9",
      "metadata": {
        "colab": {
          "base_uri": "https://localhost:8080/"
        },
        "id": "f75a0fa9",
        "outputId": "3eadc8f9-172b-43f2-e142-26e6bb444be1"
      },
      "outputs": [
        {
          "name": "stdout",
          "output_type": "stream",
          "text": [
            "\n",
            "Korelasi dengan Harga Emas:\n",
            "gold_price    1.000000\n",
            "tin           0.942993\n",
            "year          0.922562\n",
            "Perak         0.885612\n",
            "cpo           0.753968\n",
            "exch_rate     0.710543\n",
            "Platinum      0.641273\n",
            "Aluminium     0.561791\n",
            "Nickel        0.507015\n",
            "real_int      0.113259\n",
            "ec_growth     0.091401\n",
            "gdp_def      -0.423295\n",
            "inflation    -0.442662\n",
            "fed_rate     -0.619093\n",
            "lend_int     -0.795449\n",
            "Name: gold_price, dtype: float64\n",
            "\n",
            "0.1.5 INSIGHT AWAL\n",
            "--------------------------------------------------------------------------------\n",
            "✓ Dataset fokus pada hubungan harga emas dengan faktor makroekonomi\n",
            "✓ Periode analisis: 30 tahun (1994-2023)\n",
            "✓ Variabel ekonomi: Fed rate, inflasi, pertumbuhan ekonomi, nilai tukar\n",
            "✓ Variabel komoditas: CPO, timah, aluminium, nikel, platinum, perak\n"
          ]
        }
      ],
      "source": [
        "# Correlation with gold_price\n",
        "print(\"\\nKorelasi dengan Harga Emas:\")\n",
        "correlations = df.corr()['gold_price'].sort_values(ascending=False)\n",
        "print(correlations)\n",
        "\n",
        "print(\"\\n0.1.5 INSIGHT AWAL\")\n",
        "print(\"-\"*80)\n",
        "print(\"✓ Dataset fokus pada hubungan harga emas dengan faktor makroekonomi\")\n",
        "print(\"✓ Periode analisis: 30 tahun (1994-2023)\")\n",
        "print(\"✓ Variabel ekonomi: Fed rate, inflasi, pertumbuhan ekonomi, nilai tukar\")\n",
        "print(\"✓ Variabel komoditas: CPO, timah, aluminium, nikel, platinum, perak\")"
      ]
    },
    {
      "cell_type": "markdown",
      "id": "f1541fd1",
      "metadata": {
        "id": "f1541fd1"
      },
      "source": [
        "## **Trend Visualization**"
      ]
    },
    {
      "cell_type": "markdown",
      "id": "3080b0ad",
      "metadata": {
        "id": "3080b0ad"
      },
      "source": [
        "### Gold Price Trend"
      ]
    },
    {
      "cell_type": "code",
      "execution_count": null,
      "id": "42d1ab11",
      "metadata": {
        "colab": {
          "base_uri": "https://localhost:8080/",
          "height": 326
        },
        "id": "42d1ab11",
        "outputId": "d4de0d80-61ba-46c0-bec4-73576db2b1fc"
      },
      "outputs": [
        {
          "data": {
            "image/png": "[encoded data removed]",
            "text/plain": [
              "<Figure size 500x300 with 1 Axes>"
            ]
          },
          "metadata": {},
          "output_type": "display_data"
        }
      ],
      "source": [
        "plt.figure(figsize=(5,3))\n",
        "plt.plot(df['year'], df['gold_price'], marker='o', linewidth=2, color='gold')\n",
        "plt.title('Gold Price Trend (1994-2023)')\n",
        "plt.xlabel('Year')\n",
        "plt.ylabel('Gold Price')\n",
        "plt.grid(True)\n",
        "plt.show()"
      ]
    },
    {
      "cell_type": "markdown",
      "id": "b097921f",
      "metadata": {
        "id": "b097921f"
      },
      "source": [
        "### Fed Rate Trend"
      ]
    },
    {
      "cell_type": "code",
      "execution_count": null,
      "id": "0831510c",
      "metadata": {
        "colab": {
          "base_uri": "https://localhost:8080/",
          "height": 326
        },
        "id": "0831510c",
        "outputId": "361ab094-a406-4e90-a0c3-d608f38b14e5"
      },
      "outputs": [
        {
          "data": {
            "image/png": "[encoded data removed]",
            "text/plain": [
              "<Figure size 500x300 with 1 Axes>"
            ]
          },
          "metadata": {},
          "output_type": "display_data"
        }
      ],
      "source": [
        "plt.figure(figsize=(5,3))\n",
        "plt.plot(df['year'], df['fed_rate'], marker='o', linewidth=2, color='blue')\n",
        "plt.title('Fed Rate Trend')\n",
        "plt.xlabel('Year')\n",
        "plt.ylabel('Fed Rate (%)')\n",
        "plt.grid(True)\n",
        "plt.show()"
      ]
    },
    {
      "cell_type": "markdown",
      "id": "e1e7ef29",
      "metadata": {
        "id": "e1e7ef29"
      },
      "source": [
        "### Inflation Trend"
      ]
    },
    {
      "cell_type": "code",
      "execution_count": null,
      "id": "21b3ea9f",
      "metadata": {
        "colab": {
          "base_uri": "https://localhost:8080/",
          "height": 326
        },
        "id": "21b3ea9f",
        "outputId": "9a1c1600-5524-4ad3-c8ea-6009eabb8dd7"
      },
      "outputs": [
        {
          "data": {
            "image/png": "[encoded data removed]",
            "text/plain": [
              "<Figure size 500x300 with 1 Axes>"
            ]
          },
          "metadata": {},
          "output_type": "display_data"
        }
      ],
      "source": [
        "plt.figure(figsize=(5,3))\n",
        "plt.plot(df['year'], df['inflation'], marker='o', linewidth=2, color='red')\n",
        "plt.title('Inflation Trend')\n",
        "plt.xlabel('Year')\n",
        "plt.ylabel('Inflation (%)')\n",
        "plt.grid(True)\n",
        "plt.show()"
      ]
    },
    {
      "cell_type": "markdown",
      "id": "cc77c38c",
      "metadata": {
        "id": "cc77c38c"
      },
      "source": [
        "### Exchange Rate Trend"
      ]
    },
    {
      "cell_type": "code",
      "execution_count": null,
      "id": "ebdedaa4",
      "metadata": {
        "colab": {
          "base_uri": "https://localhost:8080/",
          "height": 326
        },
        "id": "ebdedaa4",
        "outputId": "e34f56a0-3320-4d5d-9d86-908ba3ac5241"
      },
      "outputs": [
        {
          "data": {
            "image/png": "[encoded data removed]",
            "text/plain": [
              "<Figure size 500x300 with 1 Axes>"
            ]
          },
          "metadata": {},
          "output_type": "display_data"
        }
      ],
      "source": [
        "plt.figure(figsize=(5,3))\n",
        "plt.plot(df['year'], df['exch_rate'], marker='o', linewidth=2, color='green')\n",
        "plt.title('Exchange Rate Trend (IDR/USD)')\n",
        "plt.xlabel('Year')\n",
        "plt.ylabel('Exchange Rate')\n",
        "plt.grid(True)\n",
        "plt.show()"
      ]
    },
    {
      "cell_type": "markdown",
      "id": "f632256c",
      "metadata": {
        "id": "f632256c"
      },
      "source": [
        "### Correlation Heatmap"
      ]
    },
    {
      "cell_type": "code",
      "execution_count": null,
      "id": "503d0a47",
      "metadata": {
        "colab": {
          "base_uri": "https://localhost:8080/"
        },
        "id": "503d0a47",
        "outputId": "24cafd18-af3a-4fc5-ec6e-0fe44527614c"
      },
      "outputs": [
        {
          "data": {
            "text/plain": [
              "Index(['year', 'gold_price', 'fed_rate', 'inflation', 'ec_growth', 'exch_rate',\n",
              "       'real_int', 'gdp_def', 'cpo', 'tin', 'lend_int', 'Aluminium', 'Nickel',\n",
              "       'Platinum', 'Perak'],\n",
              "      dtype='object')"
            ]
          },
          "execution_count": 18,
          "metadata": {},
          "output_type": "execute_result"
        }
      ],
      "source": [
        "df.columns"
      ]
    },
    {
      "cell_type": "code",
      "execution_count": null,
      "id": "98a57b2a",
      "metadata": {
        "colab": {
          "base_uri": "https://localhost:8080/",
          "height": 743
        },
        "id": "98a57b2a",
        "outputId": "02decefa-7c49-464f-a2bc-ba269c3fd84d"
      },
      "outputs": [
        {
          "data": {
            "image/png": "[encoded data removed]",
            "text/plain": [
              "<Figure size 1000x800 with 2 Axes>"
            ]
          },
          "metadata": {},
          "output_type": "display_data"
        }
      ],
      "source": [
        "corr_matrix = df.corr()\n",
        "\n",
        "plt.figure(figsize=(10,8))\n",
        "sns.heatmap(corr_matrix, annot=True, fmt='.2f', cmap='coolwarm', center=0,\n",
        "            square=True, linewidths=1)\n",
        "plt.title('Correlation Heatmap')\n",
        "plt.show()"
      ]
    },
    {
      "cell_type": "markdown",
      "id": "0c66fac4",
      "metadata": {
        "id": "0c66fac4"
      },
      "source": [
        "### Distribution of Gold Price"
      ]
    },
    {
      "cell_type": "code",
      "execution_count": null,
      "id": "0f554ae3",
      "metadata": {
        "colab": {
          "base_uri": "https://localhost:8080/",
          "height": 480
        },
        "id": "0f554ae3",
        "outputId": "18f38d19-f9c4-41f7-9517-1147fb2cba67"
      },
      "outputs": [
        {
          "data": {
            "image/png": "[encoded data removed]",
            "text/plain": [
              "<Figure size 800x500 with 1 Axes>"
            ]
          },
          "metadata": {},
          "output_type": "display_data"
        }
      ],
      "source": [
        "plt.figure(figsize=(8,5))\n",
        "plt.hist(df['gold_price'], bins=16, color='gold', edgecolor='black', alpha=0.7)\n",
        "plt.title('Gold Price Distribution')\n",
        "plt.xlabel('Gold Price')\n",
        "plt.ylabel('Frequency')\n",
        "plt.grid(True, alpha=0.3)\n",
        "plt.show()\n"
      ]
    },
    {
      "cell_type": "markdown",
      "id": "fbe849f8",
      "metadata": {
        "id": "fbe849f8"
      },
      "source": [
        "## **Data Testing**"
      ]
    },
    {
      "cell_type": "markdown",
      "id": "ef560a9e",
      "metadata": {
        "id": "ef560a9e"
      },
      "source": [
        "### Classic Test (Stationarity)"
      ]
    },
    {
      "cell_type": "code",
      "execution_count": null,
      "id": "3c4d97af",
      "metadata": {
        "id": "3c4d97af"
      },
      "outputs": [],
      "source": [
        "X = df.drop(['year', 'gold_price'], axis=1)\n",
        "y = df['gold_price']\n",
        "\n",
        "# --- 1. Log Transformation (optional)\n",
        "y_log = np.log(y)\n",
        "\n",
        "# --- 2. First Differencing\n",
        "y_diff = y.diff().dropna()\n",
        "\n",
        "# --- 3. Log + Differencing\n",
        "y_logdiff = y_log.diff().dropna()"
      ]
    },
    {
      "cell_type": "code",
      "execution_count": null,
      "id": "d85f82d7",
      "metadata": {
        "id": "d85f82d7"
      },
      "outputs": [],
      "source": [
        "def stationarity_tests(series, name=\"Series\"):\n",
        "    print(f\"\\n>>> Uji Stasioneritas untuk {name}\")\n",
        "    print(\"-\"*80)\n",
        "\n",
        "    # KPSS Test\n",
        "    kpss_result = kpss(series, regression='c', nlags=\"auto\")\n",
        "    print(f\"\\nKPSS Test:\")\n",
        "    print(f\"  KPSS Statistic: {kpss_result[0]:.4f}\")\n",
        "    print(f\"  p-value: {kpss_result[1]:.4f}\")\n",
        "    print(f\"  Critical Values:\")\n",
        "    for key, value in kpss_result[3].items():\n",
        "        print(f\"    {key}: {value:.4f}\")\n",
        "    if kpss_result[1] > 0.05:\n",
        "        print(\"  → Data STASIONER (p > 0.05)\")\n",
        "    else:\n",
        "        print(\"  → Data TIDAK STASIONER (p <= 0.05)\")"
      ]
    },
    {
      "cell_type": "markdown",
      "id": "1979a114",
      "metadata": {
        "id": "1979a114"
      },
      "source": [
        "#### Pengujian"
      ]
    },
    {
      "cell_type": "code",
      "execution_count": null,
      "id": "5947a116",
      "metadata": {
        "colab": {
          "base_uri": "https://localhost:8080/"
        },
        "id": "5947a116",
        "outputId": "cc783549-e073-4f81-d15b-0d7bf3b46883"
      },
      "outputs": [
        {
          "name": "stdout",
          "output_type": "stream",
          "text": [
            "\n",
            ">>> Uji Stasioneritas untuk Original Data (Gold Price)\n",
            "--------------------------------------------------------------------------------\n",
            "\n",
            "KPSS Test:\n",
            "  KPSS Statistic: 0.7722\n",
            "  p-value: 0.0100\n",
            "  Critical Values:\n",
            "    10%: 0.3470\n",
            "    5%: 0.4630\n",
            "    2.5%: 0.5740\n",
            "    1%: 0.7390\n",
            "  → Data TIDAK STASIONER (p <= 0.05)\n"
          ]
        }
      ],
      "source": [
        "stationarity_tests(y, \"Original Data (Gold Price)\")"
      ]
    },
    {
      "cell_type": "code",
      "execution_count": null,
      "id": "53a0a2a3",
      "metadata": {
        "colab": {
          "base_uri": "https://localhost:8080/"
        },
        "id": "53a0a2a3",
        "outputId": "8ff168dd-93c0-4588-d314-32badfbf54a2"
      },
      "outputs": [
        {
          "name": "stdout",
          "output_type": "stream",
          "text": [
            "\n",
            ">>> Uji Stasioneritas untuk Log Transform\n",
            "--------------------------------------------------------------------------------\n",
            "\n",
            "KPSS Test:\n",
            "  KPSS Statistic: 0.7545\n",
            "  p-value: 0.0100\n",
            "  Critical Values:\n",
            "    10%: 0.3470\n",
            "    5%: 0.4630\n",
            "    2.5%: 0.5740\n",
            "    1%: 0.7390\n",
            "  → Data TIDAK STASIONER (p <= 0.05)\n"
          ]
        }
      ],
      "source": [
        "stationarity_tests(y_log.dropna(), \"Log Transform\")"
      ]
    },
    {
      "cell_type": "code",
      "execution_count": null,
      "id": "df4118a0",
      "metadata": {
        "colab": {
          "base_uri": "https://localhost:8080/"
        },
        "id": "df4118a0",
        "outputId": "e8dc0045-6e64-4c61-8928-23dde0da6033"
      },
      "outputs": [
        {
          "name": "stdout",
          "output_type": "stream",
          "text": [
            "\n",
            ">>> Uji Stasioneritas untuk First Difference\n",
            "--------------------------------------------------------------------------------\n",
            "\n",
            "KPSS Test:\n",
            "  KPSS Statistic: 0.1394\n",
            "  p-value: 0.1000\n",
            "  Critical Values:\n",
            "    10%: 0.3470\n",
            "    5%: 0.4630\n",
            "    2.5%: 0.5740\n",
            "    1%: 0.7390\n",
            "  → Data STASIONER (p > 0.05)\n"
          ]
        }
      ],
      "source": [
        "stationarity_tests(y_diff, \"First Difference\")"
      ]
    },
    {
      "cell_type": "code",
      "execution_count": null,
      "id": "1d6b76f9",
      "metadata": {
        "colab": {
          "base_uri": "https://localhost:8080/"
        },
        "id": "1d6b76f9",
        "outputId": "8c761986-e523-438e-eb49-734d68a9165c"
      },
      "outputs": [
        {
          "name": "stdout",
          "output_type": "stream",
          "text": [
            "\n",
            ">>> Uji Stasioneritas untuk Log + First Difference\n",
            "--------------------------------------------------------------------------------\n",
            "\n",
            "KPSS Test:\n",
            "  KPSS Statistic: 0.1292\n",
            "  p-value: 0.1000\n",
            "  Critical Values:\n",
            "    10%: 0.3470\n",
            "    5%: 0.4630\n",
            "    2.5%: 0.5740\n",
            "    1%: 0.7390\n",
            "  → Data STASIONER (p > 0.05)\n"
          ]
        }
      ],
      "source": [
        "stationarity_tests(y_logdiff, \"Log + First Difference\")"
      ]
    },
    {
      "cell_type": "markdown",
      "id": "7e01e167",
      "metadata": {
        "id": "7e01e167"
      },
      "source": [
        "### Heterokedastatis Test"
      ]
    },
    {
      "cell_type": "code",
      "execution_count": null,
      "id": "2335b2cd",
      "metadata": {
        "colab": {
          "base_uri": "https://localhost:8080/"
        },
        "id": "2335b2cd",
        "outputId": "54987ec5-e982-4d21-b1a2-fd0b07f7034d"
      },
      "outputs": [
        {
          "name": "stdout",
          "output_type": "stream",
          "text": [
            "\n",
            "0.2.2 HETEROSKEDASTICITY TEST\n",
            "--------------------------------------------------------------------------------\n",
            "Breusch-Pagan Test:\n",
            "  LM Statistic: 12.2686\n",
            "  p-value: 0.5057\n",
            "  F-statistic: 0.8516\n",
            "  F p-value: 0.6101\n",
            "  → HOMOSKEDASTISITAS (p >= 0.05)\n"
          ]
        }
      ],
      "source": [
        "print(\"\\n0.2.2 HETEROSKEDASTICITY TEST\")\n",
        "print(\"-\"*80)\n",
        "\n",
        "# Simple linear regression for residuals\n",
        "from sklearn.linear_model import LinearRegression\n",
        "from statsmodels.tools import add_constant\n",
        "\n",
        "lr = LinearRegression()\n",
        "lr.fit(X, y)\n",
        "y_pred = lr.predict(X)\n",
        "residuals = y - y_pred\n",
        "\n",
        "# Add constant to X for Breusch-Pagan test (required by statsmodels)\n",
        "X_with_const = add_constant(X)\n",
        "\n",
        "# Breusch-Pagan test\n",
        "bp_test = het_breuschpagan(residuals, X_with_const)\n",
        "print(\"Breusch-Pagan Test:\")\n",
        "print(f\"  LM Statistic: {bp_test[0]:.4f}\")\n",
        "print(f\"  p-value: {bp_test[1]:.4f}\")\n",
        "print(f\"  F-statistic: {bp_test[2]:.4f}\")\n",
        "print(f\"  F p-value: {bp_test[3]:.4f}\")\n",
        "if bp_test[1] < 0.05:\n",
        "    print(\"  → HETEROSKEDASTISITAS TERDETEKSI (p < 0.05)\")\n",
        "else:\n",
        "    print(\"  → HOMOSKEDASTISITAS (p >= 0.05)\")"
      ]
    },
    {
      "cell_type": "markdown",
      "id": "a31ed0c8",
      "metadata": {
        "id": "a31ed0c8"
      },
      "source": [
        "### Autocorrelation Test"
      ]
    },
    {
      "cell_type": "code",
      "execution_count": null,
      "id": "5ed55639",
      "metadata": {
        "colab": {
          "base_uri": "https://localhost:8080/"
        },
        "id": "5ed55639",
        "outputId": "6600b23b-3c9e-4268-a544-c21abbabf236"
      },
      "outputs": [
        {
          "name": "stdout",
          "output_type": "stream",
          "text": [
            "\n",
            "0.2.3 AUTOCORRELATION TEST\n",
            "--------------------------------------------------------------------------------\n",
            "Durbin-Watson Test:\n",
            "  DW Statistic: 2.2447\n",
            "  → TIDAK ADA AUTOKORELASI\n",
            "\n",
            "Ljung-Box Test (lag 1):\n",
            "  Statistic: 0.5628\n",
            "  p-value: 0.4531\n",
            "  → TIDAK ADA AUTOKORELASI\n"
          ]
        }
      ],
      "source": [
        "print(\"\\n0.2.3 AUTOCORRELATION TEST\")\n",
        "print(\"-\"*80)\n",
        "\n",
        "# Durbin-Watson test\n",
        "dw_stat = durbin_watson(residuals)\n",
        "print(\"Durbin-Watson Test:\")\n",
        "print(f\"  DW Statistic: {dw_stat:.4f}\")\n",
        "if dw_stat < 1.5:\n",
        "    print(\"  → AUTOKORELASI POSITIF\")\n",
        "elif dw_stat > 2.5:\n",
        "    print(\"  → AUTOKORELASI NEGATIF\")\n",
        "else:\n",
        "    print(\"  → TIDAK ADA AUTOKORELASI\")\n",
        "\n",
        "# Ljung-Box test\n",
        "lb_test = acorr_ljungbox(residuals, lags=10, return_df=True)\n",
        "print(f\"\\nLjung-Box Test (lag 1):\")\n",
        "print(f\"  Statistic: {lb_test['lb_stat'].iloc[0]:.4f}\")\n",
        "print(f\"  p-value: {lb_test['lb_pvalue'].iloc[0]:.4f}\")\n",
        "if lb_test['lb_pvalue'].iloc[0] < 0.05:\n",
        "    print(\"  → AUTOKORELASI TERDETEKSI\")\n",
        "else:\n",
        "    print(\"  → TIDAK ADA AUTOKORELASI\")"
      ]
    },
    {
      "cell_type": "markdown",
      "id": "158fd986",
      "metadata": {
        "id": "158fd986"
      },
      "source": [
        "### Multi Correlation Test"
      ]
    },
    {
      "cell_type": "code",
      "execution_count": null,
      "id": "bf465b2d",
      "metadata": {
        "colab": {
          "base_uri": "https://localhost:8080/"
        },
        "id": "bf465b2d",
        "outputId": "d9506af6-05b3-492a-bef6-c35a2c0db33f"
      },
      "outputs": [
        {
          "data": {
            "text/plain": [
              "Index(['fed_rate', 'inflation', 'ec_growth', 'exch_rate', 'real_int',\n",
              "       'gdp_def', 'cpo', 'tin', 'lend_int', 'Aluminium', 'Nickel', 'Platinum',\n",
              "       'Perak'],\n",
              "      dtype='object')"
            ]
          },
          "execution_count": 29,
          "metadata": {},
          "output_type": "execute_result"
        }
      ],
      "source": [
        "X.columns"
      ]
    },
    {
      "cell_type": "code",
      "execution_count": null,
      "id": "542de13e",
      "metadata": {
        "colab": {
          "base_uri": "https://localhost:8080/"
        },
        "id": "542de13e",
        "outputId": "9689a93b-935b-4ee1-d73d-60c8e0144b41"
      },
      "outputs": [
        {
          "name": "stdout",
          "output_type": "stream",
          "text": [
            "\n",
            "0.2.4 MULTICOLLINEARITY TEST\n",
            "--------------------------------------------------------------------------------\n",
            "Variance Inflation Factor (VIF):\n",
            "     Variable         VIF\n",
            "5     gdp_def  408.439213\n",
            "8    lend_int  376.572611\n",
            "9   Aluminium  190.341468\n",
            "4    real_int  141.726385\n",
            "11   Platinum  121.662181\n",
            "6         cpo   72.126704\n",
            "7         tin   52.394930\n",
            "10     Nickel   37.479860\n",
            "1   inflation   34.101870\n",
            "12      Perak   24.300016\n",
            "3   exch_rate   19.170536\n",
            "2   ec_growth   18.629027\n",
            "0    fed_rate   14.229006\n",
            "\n",
            "Interpretasi:\n",
            "  VIF < 5: Tidak ada multikolinearitas\n",
            "  VIF 5-10: Multikolinearitas sedang\n",
            "  VIF > 10: Multikolinearitas tinggi\n"
          ]
        }
      ],
      "source": [
        "print(\"\\n0.2.4 MULTICOLLINEARITY TEST\")\n",
        "print(\"-\"*80)\n",
        "\n",
        "# VIF calculation\n",
        "vif_data = pd.DataFrame()\n",
        "vif_data[\"Variable\"] = X.columns\n",
        "vif_data[\"VIF\"] = [variance_inflation_factor(X.values, i) for i in range(X.shape[1])]\n",
        "vif_data = vif_data.sort_values('VIF', ascending=False)\n",
        "print(\"Variance Inflation Factor (VIF):\")\n",
        "print(vif_data)\n",
        "print(\"\\nInterpretasi:\")\n",
        "print(\"  VIF < 5: Tidak ada multikolinearitas\")\n",
        "print(\"  VIF 5-10: Multikolinearitas sedang\")\n",
        "print(\"  VIF > 10: Multikolinearitas tinggi\")"
      ]
    },
    {
      "cell_type": "markdown",
      "id": "14c8969b",
      "metadata": {
        "id": "14c8969b"
      },
      "source": [
        "### Normality Test"
      ]
    },
    {
      "cell_type": "code",
      "execution_count": null,
      "id": "8248ce10",
      "metadata": {
        "colab": {
          "base_uri": "https://localhost:8080/",
          "height": 622
        },
        "id": "8248ce10",
        "outputId": "dac5aeab-1d52-46a4-9270-d9806554b475"
      },
      "outputs": [
        {
          "name": "stdout",
          "output_type": "stream",
          "text": [
            "\n",
            "0.2.5 NORMALITY TEST\n",
            "--------------------------------------------------------------------------------\n",
            "Jarque-Bera Test:\n",
            "  Statistic: 4.1588\n",
            "  p-value: 0.1250\n",
            "  → Data BERDISTRIBUSI NORMAL (p >= 0.05)\n",
            "\n",
            "Shapiro-Wilk Test:\n",
            "  Statistic: 0.9595\n",
            "  p-value: 0.3001\n",
            "  → Data BERDISTRIBUSI NORMAL (p >= 0.05)\n"
          ]
        },
        {
          "data": {
            "image/png": "[encoded data removed]",
            "text/plain": [
              "<Figure size 1200x400 with 2 Axes>"
            ]
          },
          "metadata": {},
          "output_type": "display_data"
        }
      ],
      "source": [
        "print(\"\\n0.2.5 NORMALITY TEST\")\n",
        "print(\"-\"*80)\n",
        "\n",
        "# Jarque-Bera test\n",
        "jb_stat, jb_pvalue = jarque_bera(residuals)\n",
        "print(\"Jarque-Bera Test:\")\n",
        "print(f\"  Statistic: {jb_stat:.4f}\")\n",
        "print(f\"  p-value: {jb_pvalue:.4f}\")\n",
        "if jb_pvalue < 0.05:\n",
        "    print(\"  → Data TIDAK BERDISTRIBUSI NORMAL (p < 0.05)\")\n",
        "else:\n",
        "    print(\"  → Data BERDISTRIBUSI NORMAL (p >= 0.05)\")\n",
        "\n",
        "# Shapiro-Wilk test\n",
        "shapiro_stat, shapiro_pvalue = shapiro(residuals)\n",
        "print(f\"\\nShapiro-Wilk Test:\")\n",
        "print(f\"  Statistic: {shapiro_stat:.4f}\")\n",
        "print(f\"  p-value: {shapiro_pvalue:.4f}\")\n",
        "if shapiro_pvalue < 0.05:\n",
        "    print(\"  → Data TIDAK BERDISTRIBUSI NORMAL (p < 0.05)\")\n",
        "else:\n",
        "    print(\"  → Data BERDISTRIBUSI NORMAL (p >= 0.05)\")\n",
        "\n",
        "# Visualization\n",
        "fig, axes = plt.subplots(1, 2, figsize=(12, 4))\n",
        "fig.suptitle('Normality Test - Residuals', fontsize=14)\n",
        "\n",
        "# Histogram\n",
        "axes[0].hist(residuals, bins=15, color='skyblue', edgecolor='black', alpha=0.7)\n",
        "axes[0].set_title('Histogram of Residuals')\n",
        "axes[0].set_xlabel('Residuals')\n",
        "axes[0].set_ylabel('Frequency')\n",
        "axes[0].grid(True, alpha=0.3)\n",
        "\n",
        "# Q-Q plot\n",
        "stats.probplot(residuals, dist=\"norm\", plot=axes[1])\n",
        "axes[1].set_title('Q-Q Plot')\n",
        "axes[1].grid(True, alpha=0.3)\n",
        "\n",
        "plt.tight_layout()\n",
        "plt.show()"
      ]
    },
    {
      "cell_type": "markdown",
      "id": "db7843cf",
      "metadata": {
        "id": "db7843cf"
      },
      "source": [
        "### Econometric Test"
      ]
    },
    {
      "cell_type": "code",
      "execution_count": null,
      "id": "142306b9",
      "metadata": {
        "id": "142306b9"
      },
      "outputs": [],
      "source": [
        "variabels = df.columns.tolist()\n",
        "variabels.remove('year')"
      ]
    },
    {
      "cell_type": "code",
      "execution_count": null,
      "id": "a2e6be94",
      "metadata": {
        "colab": {
          "base_uri": "https://localhost:8080/"
        },
        "id": "a2e6be94",
        "outputId": "eea56853-c50f-4801-e0d6-4f2150d5772f"
      },
      "outputs": [
        {
          "data": {
            "text/plain": [
              "['gold_price',\n",
              " 'fed_rate',\n",
              " 'inflation',\n",
              " 'ec_growth',\n",
              " 'exch_rate',\n",
              " 'real_int',\n",
              " 'gdp_def',\n",
              " 'cpo',\n",
              " 'tin',\n",
              " 'lend_int',\n",
              " 'Aluminium',\n",
              " 'Nickel',\n",
              " 'Platinum',\n",
              " 'Perak']"
            ]
          },
          "execution_count": 33,
          "metadata": {},
          "output_type": "execute_result"
        }
      ],
      "source": [
        "variabels"
      ]
    },
    {
      "cell_type": "code",
      "execution_count": null,
      "id": "382415fc",
      "metadata": {
        "colab": {
          "base_uri": "https://localhost:8080/"
        },
        "id": "382415fc",
        "outputId": "dcae812a-f741-43f1-851d-9dee3147576c"
      },
      "outputs": [
        {
          "name": "stdout",
          "output_type": "stream",
          "text": [
            "\n",
            "0.2.6 ECONOMETRIC TEST\n",
            "--------------------------------------------------------------------------------\n",
            "Granger Causality Test (Fed Rate → Gold Price):\n",
            "  Lag 1: p-value = 0.8623\n",
            "    → No Granger causality (p >= 0.05)\n",
            "  Lag 2: p-value = 0.6985\n",
            "    → No Granger causality (p >= 0.05)\n",
            "  Lag 3: p-value = 0.6302\n",
            "    → No Granger causality (p >= 0.05)\n",
            "\n",
            "Johansen Cointegration Test:\n",
            "  Trace Statistic:\n",
            "    r <= 0: 60.3616 (Critical 5%: 47.8545)\n",
            "    r <= 1: 20.6135 (Critical 5%: 29.7961)\n",
            "    r <= 2: 8.3645 (Critical 5%: 15.4943)\n",
            "    r <= 3: 0.2093 (Critical 5%: 3.8415)\n"
          ]
        }
      ],
      "source": [
        "print(\"\\n0.2.6 ECONOMETRIC TEST\")\n",
        "print(\"-\"*80)\n",
        "\n",
        "# Granger Causality Test (example: fed_rate -> gold_price)\n",
        "print(\"Granger Causality Test (Fed Rate → Gold Price):\")\n",
        "data_granger = df[['gold_price', 'fed_rate']].dropna()\n",
        "try:\n",
        "    gc_result = grangercausalitytests(data_granger, maxlag=3, verbose=False)\n",
        "    for lag in range(1, 4):\n",
        "        p_value = gc_result[lag][0]['ssr_ftest'][1]\n",
        "        print(f\"  Lag {lag}: p-value = {p_value:.4f}\")\n",
        "        if p_value < 0.05:\n",
        "            print(f\"    → Fed Rate Granger-cause Gold Price (p < 0.05)\")\n",
        "        else:\n",
        "            print(f\"    → No Granger causality (p >= 0.05)\")\n",
        "except:\n",
        "    print(\"  Unable to perform Granger test (insufficient data or singularity)\")\n",
        "\n",
        "# Cointegration Test (Johansen)\n",
        "print(\"\\nJohansen Cointegration Test:\")\n",
        "selected_vars = df[['gold_price', 'fed_rate', 'inflation', 'exch_rate']].dropna()\n",
        "try:\n",
        "    johansen_result = coint_johansen(selected_vars, det_order=0, k_ar_diff=1)\n",
        "    print(f\"  Trace Statistic:\")\n",
        "    for i in range(len(johansen_result.lr1)):\n",
        "        print(f\"    r <= {i}: {johansen_result.lr1[i]:.4f} (Critical 5%: {johansen_result.cvt[i, 1]:.4f})\")\n",
        "except:\n",
        "    print(\"  Unable to perform Johansen test\")"
      ]
    },
    {
      "cell_type": "markdown",
      "id": "25e1b2de",
      "metadata": {
        "id": "25e1b2de"
      },
      "source": [
        "## **Kesimpulan Hasil Pengujian Data**"
      ]
    },
    {
      "cell_type": "markdown",
      "id": "a091de37",
      "metadata": {
        "id": "a091de37"
      },
      "source": [
        "1. **Uji Stasioneritas (ADF & KPSS)**\n",
        "\n",
        "   * Hasil **ADF Test** menunjukkan p-value = 0.9820 (≥ 0.05) → **tidak stasioner**.\n",
        "   * Hasil **KPSS Test** menunjukkan p-value = 0.0100 (≤ 0.05) → **tidak stasioner**.\n",
        "    \n",
        "    **Kesimpulan:** Data belum stasioner, perlu dilakukan transformasi/differencing sebelum masuk ke model deret waktu.\n",
        "\n",
        "2. **Uji Heteroskedastisitas (Breusch-Pagan)**\n",
        "\n",
        "   * p-value LM = 0.5057 dan F = 0.6101 (≥ 0.05) → **tidak ada heteroskedastisitas**.\n",
        "    \n",
        "    **Kesimpulan:** Varian residual konstan (homoskedastis).\n",
        "\n",
        "3. **Uji Autokorelasi (Durbin-Watson & Ljung-Box)**\n",
        "\n",
        "   * **Durbin-Watson** = 2.2447 (mendekati 2) → tidak ada autokorelasi.\n",
        "   * **Ljung-Box** p-value = 0.4531 (≥ 0.05) → tidak ada autokorelasi.\n",
        "    \n",
        "     **Kesimpulan:** Residual bebas dari autokorelasi.\n",
        "\n",
        "4. **Uji Multikolinearitas (VIF)**\n",
        "\n",
        "   * Banyak variabel memiliki **VIF jauh > 10**, misalnya `gdp_def` (408), `lend_int` (376), `Aluminium` (190), dll.\n",
        "    \n",
        "    **Kesimpulan:** Terjadi **multikolinearitas sangat tinggi**, sehingga perlu reduksi variabel (misalnya PCA, regularisasi, atau eliminasi variabel).\n",
        "\n",
        "5. **Uji Normalitas (Jarque-Bera & Shapiro-Wilk)**\n",
        "\n",
        "   * p-value JB = 0.1250 dan SW = 0.3001 (≥ 0.05).\n",
        "    \n",
        "    **Kesimpulan:** Data residual **berdistribusi normal**.\n",
        "\n",
        "6. **Uji Ekonometrik**\n",
        "\n",
        "   * **Granger Causality (Fed Rate → Gold Price):** semua lag (1–3) p-value ≥ 0.05 → **tidak ada hubungan sebab akibat jangka pendek**.\n",
        "   * **Johansen Cointegration Test:**\n",
        "\n",
        "     * r ≤ 0: 60.3616 > 47.8545 → terdapat minimal **1 vektor kointegrasi**.\n",
        "     * r ≤ 1, r ≤ 2, r ≤ 3 tidak signifikan → hanya ada **1 hubungan kointegrasi jangka panjang**.\n",
        "     \n",
        "      **Kesimpulan:** Tidak ada hubungan kausal jangka pendek, tetapi ada **kointegrasi jangka panjang** antar variabel.\n",
        "\n",
        "---"
      ]
    },
    {
      "cell_type": "markdown",
      "id": "cd1396fa",
      "metadata": {
        "id": "cd1396fa"
      },
      "source": [
        "### Ringkasan"
      ]
    },
    {
      "cell_type": "markdown",
      "id": "150d460f",
      "metadata": {
        "id": "150d460f"
      },
      "source": [
        "* Data **tidak stasioner** → perlu differencing/transformasi.\n",
        "* Data **homoskedastis** dan **tidak ada autokorelasi**, sehingga residual sudah memenuhi asumsi klasik.\n",
        "* **Multikolinearitas sangat tinggi** → model regresi linear biasa kurang tepat; perlu penanganan khusus.\n",
        "* Residual **normal** → asumsi distribusi terpenuhi.\n",
        "* Secara ekonometrik, **tidak ada hubungan kausal jangka pendek** (Granger), tetapi terdapat **hubungan jangka panjang (kointegrasi)** antar variabel.\n"
      ]
    },
    {
      "cell_type": "markdown",
      "id": "4d1b8bb3",
      "metadata": {
        "id": "4d1b8bb3"
      },
      "source": [
        "# **Proses Pemodelan berdasarkan Hasil Pengujian dan Analisis**"
      ]
    },
    {
      "cell_type": "markdown",
      "id": "wZHBdcebqRfx",
      "metadata": {
        "id": "wZHBdcebqRfx"
      },
      "source": [
        "## **Data Preparation**"
      ]
    },
    {
      "cell_type": "markdown",
      "id": "glhbvNWD1q3D",
      "metadata": {
        "id": "glhbvNWD1q3D"
      },
      "source": [
        "### Import Libraries"
      ]
    },
    {
      "cell_type": "code",
      "execution_count": null,
      "id": "P2hoWupB1pVf",
      "metadata": {
        "id": "P2hoWupB1pVf"
      },
      "outputs": [],
      "source": [
        "import warnings, os\n",
        "warnings.filterwarnings(\"ignore\")\n",
        "\n",
        "import numpy as np\n",
        "import pandas as pd\n",
        "\n",
        "from sklearn.preprocessing import RobustScaler\n",
        "from sklearn.decomposition import PCA\n",
        "from sklearn.ensemble import RandomForestRegressor\n",
        "from sklearn.feature_selection import SelectFromModel\n",
        "from sklearn.model_selection import train_test_split\n",
        "\n",
        "# Deep Learning\n",
        "import tensorflow as tf\n",
        "from tensorflow.keras.models import Sequential\n",
        "from tensorflow.keras.layers import Dense, Dropout, LSTM, Conv1D, MaxPooling1D, Flatten\n",
        "from tensorflow.keras.callbacks import EarlyStopping\n",
        "\n",
        "# PyCaret\n",
        "from pycaret.regression import setup, compare_models, create_model, tune_model, finalize_model, predict_model, pull"
      ]
    },
    {
      "cell_type": "code",
      "execution_count": null,
      "id": "4AYAcJOnqZHm",
      "metadata": {
        "id": "4AYAcJOnqZHm"
      },
      "outputs": [],
      "source": [
        "DATA_PATH = \"data/gold_1994-2023.xlsx\"\n",
        "df = pd.read_excel(DATA_PATH)"
      ]
    },
    {
      "cell_type": "code",
      "execution_count": null,
      "id": "Vlf-naThqazg",
      "metadata": {
        "id": "Vlf-naThqazg"
      },
      "outputs": [],
      "source": [
        "# Bersihkan\n",
        "df = df.loc[:, ~df.columns.str.contains('^Unnamed')]\n",
        "if df['gold_price'].dtype == 'object':\n",
        "    df['gold_price'] = df['gold_price'].astype(str).str.replace(',', '').str.replace('.', '').astype(float)"
      ]
    },
    {
      "cell_type": "code",
      "execution_count": null,
      "id": "wNyv7V52qeJK",
      "metadata": {
        "id": "wNyv7V52qeJK"
      },
      "outputs": [],
      "source": [
        "TARGET = 'gold_price'\n",
        "FEATURES = [c for c in df.columns if c not in ['year', TARGET]]\n",
        "\n",
        "X = df[FEATURES].fillna(df[FEATURES].median())\n",
        "y = df[TARGET]"
      ]
    },
    {
      "cell_type": "markdown",
      "id": "GI4o85TVqqzW",
      "metadata": {
        "id": "GI4o85TVqqzW"
      },
      "source": [
        "## **Data Preprocessing**"
      ]
    },
    {
      "cell_type": "markdown",
      "id": "MaXQMwQFqvtw",
      "metadata": {
        "id": "MaXQMwQFqvtw"
      },
      "source": [
        "#### Data Scaling"
      ]
    },
    {
      "cell_type": "code",
      "execution_count": null,
      "id": "CpvApMBnBcfJ",
      "metadata": {
        "id": "CpvApMBnBcfJ"
      },
      "outputs": [],
      "source": [
        "scaler = RobustScaler()\n",
        "X_scaled = pd.DataFrame(scaler.fit_transform(X), columns=X.columns, index=X.index)"
      ]
    },
    {
      "cell_type": "markdown",
      "id": "dZOQxnOhq0XH",
      "metadata": {
        "id": "dZOQxnOhq0XH"
      },
      "source": [
        "####  Principal Component Analysis (PCA)"
      ]
    },
    {
      "cell_type": "code",
      "execution_count": null,
      "id": "18E-4xejsHWu",
      "metadata": {
        "colab": {
          "base_uri": "https://localhost:8080/"
        },
        "id": "18E-4xejsHWu",
        "outputId": "3bd84419-e18b-4bea-d84a-c8aa138e2516"
      },
      "outputs": [
        {
          "name": "stdout",
          "output_type": "stream",
          "text": [
            "Explained Variance Ratio per Komponen:\n",
            "  PC1: 0.7269 (0.7269 kumulatif)\n",
            "  PC2: 0.1320 (0.8588 kumulatif)\n",
            "  PC3: 0.0869 (0.9458 kumulatif)\n",
            "  PC4: 0.0168 (0.9626 kumulatif)\n",
            "  PC5: 0.0131 (0.9757 kumulatif)\n",
            "  PC6: 0.0105 (0.9862 kumulatif)\n",
            "  PC7: 0.0051 (0.9913 kumulatif)\n",
            "  PC8: 0.0029 (0.9942 kumulatif)\n",
            "  PC9: 0.0026 (0.9967 kumulatif)\n",
            "  PC10: 0.0016 (0.9984 kumulatif)\n",
            "  PC11: 0.0011 (0.9995 kumulatif)\n",
            "  PC12: 0.0004 (0.9999 kumulatif)\n",
            "  PC13: 0.0001 (1.0000 kumulatif)\n"
          ]
        }
      ],
      "source": [
        "# 1. Jalankan PCA tanpa menentukan jumlah komponen dulu\n",
        "pca = PCA(random_state=42)\n",
        "X_pca = pca.fit_transform(X_scaled)\n",
        "\n",
        "# 2. Variance explained ratio\n",
        "explained_var = pca.explained_variance_ratio_\n",
        "cum_explained_var = np.cumsum(explained_var)\n",
        "\n",
        "# 3. Tampilkan hasil\n",
        "print(\"Explained Variance Ratio per Komponen:\")\n",
        "for i, ev in enumerate(explained_var, start=1):\n",
        "    print(f\"  PC{i}: {ev:.4f} ({cum_explained_var[i-1]:.4f} kumulatif)\")"
      ]
    },
    {
      "cell_type": "code",
      "execution_count": null,
      "id": "kdU1-rywrDj_",
      "metadata": {
        "colab": {
          "base_uri": "https://localhost:8080/",
          "height": 572
        },
        "id": "kdU1-rywrDj_",
        "outputId": "d3b7be17-aa01-4abd-fee5-bce8507cab49"
      },
      "outputs": [
        {
          "name": "stdout",
          "output_type": "stream",
          "text": [
            "\n",
            "Jumlah komponen optimal (>=95% variansi terjaga): 4\n",
            "\n",
            "Dimensi asli: 13\n",
            "Dimensi baru setelah PCA: 4\n"
          ]
        },
        {
          "data": {
            "image/png": "[encoded data removed]",
            "text/plain": [
              "<Figure size 800x500 with 1 Axes>"
            ]
          },
          "metadata": {},
          "output_type": "display_data"
        }
      ],
      "source": [
        "# 4. Tentukan jumlah komponen optimal\n",
        "n_components = np.argmax(cum_explained_var >= 0.95) + 1\n",
        "print(f\"\\nJumlah komponen optimal (>=95% variansi terjaga): {n_components}\")\n",
        "\n",
        "# 5. Transformasi ulang data dengan PCA optimal\n",
        "pca_opt = PCA(n_components=n_components)\n",
        "X_reduced = pca_opt.fit_transform(X_scaled)\n",
        "\n",
        "print(\"\\nDimensi asli:\", X.shape[1])\n",
        "print(\"Dimensi baru setelah PCA:\", X_reduced.shape[1])\n",
        "\n",
        "# 6. Visualisasi Scree Plot\n",
        "plt.figure(figsize=(8,5))\n",
        "plt.plot(range(1, len(explained_var)+1), cum_explained_var, marker='o', linestyle='--')\n",
        "plt.axhline(y=0.95, color='r', linestyle='-')\n",
        "plt.title(\"Scree Plot - Cumulative Explained Variance\")\n",
        "plt.xlabel(\"Principal Component\")\n",
        "plt.ylabel(\"Cumulative Explained Variance\")\n",
        "plt.grid(True)\n",
        "plt.show()"
      ]
    },
    {
      "cell_type": "code",
      "execution_count": null,
      "id": "bvx6SyNatCc4",
      "metadata": {
        "id": "bvx6SyNatCc4"
      },
      "outputs": [],
      "source": [
        "X_pca = pd.DataFrame(X_reduced, columns=[f\"PC{i+1}\" for i in range(X_reduced.shape[1])], index=X.index)"
      ]
    },
    {
      "cell_type": "markdown",
      "id": "EbkDOOfyq-a1",
      "metadata": {
        "id": "EbkDOOfyq-a1"
      },
      "source": [
        "#### Feature Importance"
      ]
    },
    {
      "cell_type": "code",
      "execution_count": null,
      "id": "JBf2RVDxvSd-",
      "metadata": {
        "id": "JBf2RVDxvSd-"
      },
      "outputs": [],
      "source": [
        "# 1. Definisikan model\n",
        "rf = RandomForestRegressor(n_estimators=500, random_state=42)\n",
        "rf.fit(X_scaled, y)\n",
        "\n",
        "# 2. Seleksi fitur otomatis (importance >= median)\n",
        "selector = SelectFromModel(rf, threshold=\"median\", prefit=True)\n",
        "\n",
        "# 3. Ambil dataset baru dengan fitur terpilih\n",
        "X_selected = selector.transform(X_scaled)\n",
        "selected_cols = X_scaled.columns[selector.get_support()]\n",
        "X_rfr = pd.DataFrame(X_selected, columns=selected_cols, index=X_scaled.index)"
      ]
    },
    {
      "cell_type": "code",
      "execution_count": null,
      "id": "kZw3Qw_DvTjJ",
      "metadata": {
        "colab": {
          "base_uri": "https://localhost:8080/"
        },
        "id": "kZw3Qw_DvTjJ",
        "outputId": "4c59bd10-147d-4a4f-b1b9-7d9537205b9d"
      },
      "outputs": [
        {
          "name": "stdout",
          "output_type": "stream",
          "text": [
            "Fitur terpilih (importance >= median):\n",
            "['fed_rate', 'inflation', 'exch_rate', 'cpo', 'tin', 'lend_int', 'Perak']\n",
            "\n",
            "Jumlah fitur awal: 13\n",
            "Jumlah fitur setelah seleksi: 7\n"
          ]
        }
      ],
      "source": [
        "# 4. Tampilkan hasil\n",
        "print(\"Fitur terpilih (importance >= median):\")\n",
        "print(list(selected_cols))\n",
        "print(\"\\nJumlah fitur awal:\", X.shape[1])\n",
        "print(\"Jumlah fitur setelah seleksi:\", X_selected_df.shape[1])"
      ]
    },
    {
      "cell_type": "code",
      "execution_count": null,
      "id": "xiVjwlEouifd",
      "metadata": {
        "colab": {
          "base_uri": "https://localhost:8080/",
          "height": 562
        },
        "id": "xiVjwlEouifd",
        "outputId": "9c1e0002-9b67-4c79-b285-7481053f58d7"
      },
      "outputs": [
        {
          "data": {
            "image/png": "[encoded data removed]",
            "text/plain": [
              "<Figure size 1000x600 with 1 Axes>"
            ]
          },
          "metadata": {},
          "output_type": "display_data"
        }
      ],
      "source": [
        "# 5. Visualisasi Feature Importance\n",
        "importances = rf.feature_importances_\n",
        "feat_importance_df = pd.DataFrame({\n",
        "    'Variable': X_scaled.columns,\n",
        "    'Importance': importances\n",
        "}).sort_values('Importance', ascending=False)\n",
        "\n",
        "plt.figure(figsize=(10,6))\n",
        "plt.barh(feat_importance_df['Variable'], feat_importance_df['Importance'], color='skyblue')\n",
        "plt.axvline(x=importances.mean(), color='g', linestyle=':', label=\"Mean Importance\")\n",
        "plt.axvline(x=np.median(importances), color='r', linestyle='--', label=\"Median Importance\")\n",
        "plt.gca().invert_yaxis()\n",
        "plt.title(\"Feature Importance (Random Forest)\")\n",
        "plt.xlabel(\"Importance Score\")\n",
        "plt.ylabel(\"Features\")\n",
        "plt.legend()\n",
        "plt.show()"
      ]
    },
    {
      "cell_type": "markdown",
      "id": "ydjf4P-Ew1vw",
      "metadata": {
        "id": "ydjf4P-Ew1vw"
      },
      "source": [
        "> There are 3 schemes namely PCA, Feature Importance (RFR), and no Feature Selection or Reduction"
      ]
    },
    {
      "cell_type": "markdown",
      "id": "l2kGXCk5xKa1",
      "metadata": {
        "id": "l2kGXCk5xKa1"
      },
      "source": [
        "## **Modelling**"
      ]
    },
    {
      "cell_type": "code",
      "execution_count": null,
      "id": "7a29aa29",
      "metadata": {},
      "outputs": [],
      "source": [
        "# Persiapan untuk menyimpan hasil evaluasi\n",
        "results = []\n",
        "\n",
        "# Metrics calculation function\n",
        "def calculate_metrics(y_true, y_pred, model_name, feature_selection):\n",
        "    from sklearn.metrics import r2_score, mean_absolute_error, mean_squared_error\n",
        "    \n",
        "    r2 = r2_score(y_true, y_pred)\n",
        "    mae = mean_absolute_error(y_true, y_pred)\n",
        "    mse = mean_squared_error(y_true, y_pred)\n",
        "    rmse = np.sqrt(mse)\n",
        "    mape = np.mean(np.abs((y_true - y_pred) / y_true)) * 100\n",
        "    \n",
        "    return {\n",
        "        'model': model_name,\n",
        "        'feature_selection': feature_selection,\n",
        "        'r2_score': r2,\n",
        "        'mae': mae,\n",
        "        'mape': mape,\n",
        "        'mse': mse,\n",
        "        'rmse': rmse\n",
        "    }\n",
        "\n",
        "# Prepare datasets for 3 schemes\n",
        "datasets = {\n",
        "    'all_variables': X_scaled,\n",
        "    'pca': X_pca,\n",
        "    'feature_importance': X_rfr\n",
        "}\n",
        "\n",
        "print(\"Dataset shapes:\")\n",
        "for name, data in datasets.items():\n",
        "    print(f\"  {name}: {data.shape}\")"
      ]
    },
    {
      "cell_type": "markdown",
      "id": "4tPb4Spv1zaI",
      "metadata": {
        "id": "4tPb4Spv1zaI"
      },
      "source": [
        "### Machine Learning using Pycaret"
      ]
    },
    {
      "cell_type": "code",
      "execution_count": null,
      "id": "0ddf5ffc",
      "metadata": {},
      "outputs": [],
      "source": [
        "print(\"\\n\" + \"=\"*80)\n",
        "print(\"MACHINE LEARNING MODELS USING PYCARET\")\n",
        "print(\"=\"*80)\n",
        "\n",
        "# Loop through each feature selection scheme\n",
        "for scheme_name, X_data in datasets.items():\n",
        "    print(f\"\\n>>> Processing scheme: {scheme_name.upper()}\")\n",
        "    print(\"-\"*60)\n",
        "    \n",
        "    try:\n",
        "        # Combine features and target\n",
        "        ml_data = pd.concat([X_data, y], axis=1)\n",
        "        \n",
        "        # Setup PyCaret environment\n",
        "        ml_setup = setup(\n",
        "            data=ml_data,\n",
        "            target=TARGET,\n",
        "            train_size=0.8,\n",
        "            session_id=42,\n",
        "            silent=True,\n",
        "            verbose=False\n",
        "        )\n",
        "        \n",
        "        # Compare all available models\n",
        "        best_models = compare_models(\n",
        "            sort='R2',\n",
        "            verbose=False\n",
        "        )\n",
        "        \n",
        "        # Get comparison results\n",
        "        comparison_results = pull()\n",
        "        \n",
        "        # Process each model result\n",
        "        for idx, row in comparison_results.iterrows():\n",
        "            model_name = row['Model']\n",
        "            r2 = row['R2']\n",
        "            mae = row['MAE']\n",
        "            mse = row['MSE']\n",
        "            rmse = row['RMSE']\n",
        "            mape = row['MAPE']\n",
        "            \n",
        "            results.append({\n",
        "                'model': model_name,\n",
        "                'feature_selection': scheme_name,\n",
        "                'r2_score': r2,\n",
        "                'mae': mae,\n",
        "                'mape': mape,\n",
        "                'mse': mse,\n",
        "                'rmse': rmse\n",
        "            })\n",
        "        \n",
        "        print(f\"✓ Completed {len(comparison_results)} models for {scheme_name}\")\n",
        "        \n",
        "    except Exception as e:\n",
        "        print(f\"✗ Error in {scheme_name}: {str(e)}\")\n",
        "        continue\n",
        "\n",
        "print(f\"\\nTotal ML models processed: {len([r for r in results if 'CNN' not in r['model'] and 'LSTM' not in r['model'] and 'GRU' not in r['model']])}\")"
      ]
    },
    {
      "cell_type": "markdown",
      "id": "I3A1Cnj4139a",
      "metadata": {
        "id": "I3A1Cnj4139a"
      },
      "source": [
        "### Deep Learning"
      ]
    },
    {
      "cell_type": "code",
      "execution_count": null,
      "id": "7e89754c",
      "metadata": {},
      "outputs": [],
      "source": [
        "print(\"\\n\" + \"=\"*80)\n",
        "print(\"DEEP LEARNING MODELS\")\n",
        "print(\"=\"*80)\n",
        "\n",
        "# Prepare data for deep learning (reshape for sequences)\n",
        "def prepare_dl_data(X_data, y_data, lookback=1):\n",
        "    \"\"\"Prepare data for deep learning models\"\"\"\n",
        "    if lookback == 1:\n",
        "        # For simple neural networks\n",
        "        return X_data.values, y_data.values\n",
        "    else:\n",
        "        # For sequence models (LSTM, GRU)\n",
        "        X_seq, y_seq = [], []\n",
        "        for i in range(lookback, len(X_data)):\n",
        "            X_seq.append(X_data.iloc[i-lookback:i].values)\n",
        "            y_seq.append(y_data.iloc[i])\n",
        "        return np.array(X_seq), np.array(y_seq)\n",
        "\n",
        "# Deep Learning model configurations\n",
        "dl_models = {\n",
        "    'LSTM': {\n",
        "        'layers': [\n",
        "            LSTM(50, return_sequences=True, input_shape=(None, None)),\n",
        "            Dropout(0.2),\n",
        "            LSTM(30, return_sequences=False),\n",
        "            Dropout(0.2),\n",
        "            Dense(25),\n",
        "            Dense(1)\n",
        "        ],\n",
        "        'sequence': True\n",
        "    },\n",
        "    'GRU': {\n",
        "        'layers': [\n",
        "            tf.keras.layers.GRU(50, return_sequences=True, input_shape=(None, None)),\n",
        "            Dropout(0.2),\n",
        "            tf.keras.layers.GRU(30, return_sequences=False),\n",
        "            Dropout(0.2),\n",
        "            Dense(25),\n",
        "            Dense(1)\n",
        "        ],\n",
        "        'sequence': True\n",
        "    },\n",
        "    'CNN': {\n",
        "        'layers': [\n",
        "            Conv1D(filters=64, kernel_size=2, activation='relu', input_shape=(None, None)),\n",
        "            MaxPooling1D(pool_size=2),\n",
        "            Conv1D(filters=32, kernel_size=2, activation='relu'),\n",
        "            Dropout(0.2),\n",
        "            Flatten(),\n",
        "            Dense(50, activation='relu'),\n",
        "            Dense(1)\n",
        "        ],\n",
        "        'sequence': True\n",
        "    },\n",
        "    'CNN_LSTM': {\n",
        "        'layers': [\n",
        "            Conv1D(filters=64, kernel_size=2, activation='relu', input_shape=(None, None)),\n",
        "            MaxPooling1D(pool_size=2),\n",
        "            LSTM(50, return_sequences=False),\n",
        "            Dropout(0.2),\n",
        "            Dense(25),\n",
        "            Dense(1)\n",
        "        ],\n",
        "        'sequence': True\n",
        "    },\n",
        "    'CNN_GRU': {\n",
        "        'layers': [\n",
        "            Conv1D(filters=64, kernel_size=2, activation='relu', input_shape=(None, None)),\n",
        "            MaxPooling1D(pool_size=2),\n",
        "            tf.keras.layers.GRU(50, return_sequences=False),\n",
        "            Dropout(0.2),\n",
        "            Dense(25),\n",
        "            Dense(1)\n",
        "        ],\n",
        "        'sequence': True\n",
        "    }\n",
        "}\n",
        "\n",
        "# Process each deep learning model with each feature selection scheme\n",
        "for scheme_name, X_data in datasets.items():\n",
        "    print(f\"\\n>>> Processing Deep Learning models with: {scheme_name.upper()}\")\n",
        "    print(\"-\"*60)\n",
        "    \n",
        "    for model_name, model_config in dl_models.items():\n",
        "        try:\n",
        "            print(f\"Training {model_name}...\")\n",
        "            \n",
        "            # Prepare data based on model type\n",
        "            if model_config['sequence']:\n",
        "                X_dl, y_dl = prepare_dl_data(X_data, y, lookback=3)\n",
        "                # Reshape for CNN/LSTM models\n",
        "                if len(X_dl.shape) == 2:\n",
        "                    X_dl = X_dl.reshape((X_dl.shape[0], X_dl.shape[1], 1))\n",
        "                elif len(X_dl.shape) == 3 and 'CNN' in model_name:\n",
        "                    X_dl = X_dl.reshape((X_dl.shape[0], X_dl.shape[1] * X_dl.shape[2], 1))\n",
        "            else:\n",
        "                X_dl, y_dl = X_data.values, y.values\n",
        "                \n",
        "            # Split data\n",
        "            X_train, X_test, y_train, y_test = train_test_split(\n",
        "                X_dl, y_dl, test_size=0.2, random_state=42\n",
        "            )\n",
        "            \n",
        "            # Create model\n",
        "            model = Sequential()\n",
        "            \n",
        "            # Add layers based on configuration\n",
        "            for i, layer in enumerate(model_config['layers']):\n",
        "                if i == 0:  # First layer needs input shape\n",
        "                    if hasattr(layer, 'input_shape'):\n",
        "                        if model_config['sequence']:\n",
        "                            layer.input_shape = (X_train.shape[1], X_train.shape[2])\n",
        "                        else:\n",
        "                            layer.input_shape = (X_train.shape[1],)\n",
        "                model.add(layer)\n",
        "            \n",
        "            # Compile model\n",
        "            model.compile(\n",
        "                optimizer='adam',\n",
        "                loss='mse',\n",
        "                metrics=['mae']\n",
        "            )\n",
        "            \n",
        "            # Train model\n",
        "            early_stopping = EarlyStopping(\n",
        "                monitor='val_loss',\n",
        "                patience=20,\n",
        "                restore_best_weights=True\n",
        "            )\n",
        "            \n",
        "            history = model.fit(\n",
        "                X_train, y_train,\n",
        "                epochs=100,\n",
        "                batch_size=16,\n",
        "                validation_split=0.2,\n",
        "                callbacks=[early_stopping],\n",
        "                verbose=0\n",
        "            )\n",
        "            \n",
        "            # Make predictions\n",
        "            y_pred = model.predict(X_test, verbose=0).flatten()\n",
        "            \n",
        "            # Calculate metrics\n",
        "            metrics = calculate_metrics(y_test, y_pred, model_name, scheme_name)\n",
        "            results.append(metrics)\n",
        "            \n",
        "            print(f\"✓ {model_name} completed - R²: {metrics['r2_score']:.4f}\")\n",
        "            \n",
        "        except Exception as e:\n",
        "            print(f\"✗ Error in {model_name}: {str(e)}\")\n",
        "            continue\n",
        "\n",
        "print(f\"\\nTotal Deep Learning models processed: {len([r for r in results if any(dl in r['model'] for dl in ['LSTM', 'GRU', 'CNN'])])}\")"
      ]
    },
    {
      "cell_type": "markdown",
      "id": "67a89014",
      "metadata": {},
      "source": [
        "## **Evaluation**"
      ]
    },
    {
      "cell_type": "code",
      "execution_count": null,
      "id": "c105a98c",
      "metadata": {},
      "outputs": [],
      "source": [
        "print(\"\\n\" + \"=\"*80)\n",
        "print(\"EVALUATION RESULTS\")\n",
        "print(\"=\"*80)\n",
        "\n",
        "# Convert results to DataFrame\n",
        "results_df = pd.DataFrame(results)\n",
        "\n",
        "# Display summary statistics\n",
        "print(f\"Total models evaluated: {len(results_df)}\")\n",
        "print(f\"Feature selection schemes: {results_df['feature_selection'].unique()}\")\n",
        "print(f\"Unique models: {results_df['model'].nunique()}\")\n",
        "\n",
        "# Sort by R² score (descending)\n",
        "results_df_sorted = results_df.sort_values('r2_score', ascending=False)\n",
        "\n",
        "print(\"\\nTop 10 Best Models (by R² Score):\")\n",
        "print(\"-\"*60)\n",
        "top_10 = results_df_sorted.head(10)[['model', 'feature_selection', 'r2_score', 'mae', 'rmse']]\n",
        "print(top_10.to_string(index=False))\n",
        "\n",
        "# Save results to CSV\n",
        "output_path = \"model_comparison_results.csv\"\n",
        "results_df_sorted.to_csv(output_path, index=False)\n",
        "print(f\"\\n✓ Results saved to: {output_path}\")\n",
        "\n",
        "# Display best model per feature selection scheme\n",
        "print(\"\\nBest Model per Feature Selection Scheme:\")\n",
        "print(\"-\"*60)\n",
        "best_per_scheme = results_df_sorted.groupby('feature_selection').first()[['model', 'r2_score', 'mae', 'rmse']]\n",
        "print(best_per_scheme)"
      ]
    }
  ],
  "metadata": {
    "colab": {
      "provenance": [],
      "runtime_attributes": {
        "runtime_version": "2025.07"
      }
    },
    "kernelspec": {
      "display_name": "Python 3",
      "name": "python3"
    },
    "language_info": {
      "codemirror_mode": {
        "name": "ipython",
        "version": 3
      },
      "file_extension": ".py",
      "mimetype": "text/x-python",
      "name": "python",
      "nbconvert_exporter": "python",
      "pygments_lexer": "ipython3",
      "version": "3.9.22"
    },
    "widgets": {
      "application/vnd.jupyter.widget-state+json": {
        "0078ff81441d4f149f66a81e5075098a": {
          "model_module": "@jupyter-widgets/controls",
          "model_module_version": "1.5.0",
          "model_name": "DescriptionStyleModel",
          "state": {
            "_model_module": "@jupyter-widgets/controls",
            "_model_module_version": "1.5.0",
            "_model_name": "DescriptionStyleModel",
            "_view_count": null,
            "_view_module": "@jupyter-widgets/base",
            "_view_module_version": "1.2.0",
            "_view_name": "StyleView",
            "description_width": ""
          }
        },
        "00b33e76234b4455888ac37aa6534a60": {
          "model_module": "@jupyter-widgets/base",
          "model_module_version": "1.2.0",
          "model_name": "LayoutModel",
          "state": {
            "_model_module": "@jupyter-widgets/base",
            "_model_module_version": "1.2.0",
            "_model_name": "LayoutModel",
            "_view_count": null,
            "_view_module": "@jupyter-widgets/base",
            "_view_module_version": "1.2.0",
            "_view_name": "LayoutView",
            "align_content": null,
            "align_items": null,
            "align_self": null,
            "border": null,
            "bottom": null,
            "display": null,
            "flex": null,
            "flex_flow": null,
            "grid_area": null,
            "grid_auto_columns": null,
            "grid_auto_flow": null,
            "grid_auto_rows": null,
            "grid_column": null,
            "grid_gap": null,
            "grid_row": null,
            "grid_template_areas": null,
            "grid_template_columns": null,
            "grid_template_rows": null,
            "height": null,
            "justify_content": null,
            "justify_items": null,
            "left": null,
            "margin": null,
            "max_height": null,
            "max_width": null,
            "min_height": null,
            "min_width": null,
            "object_fit": null,
            "object_position": null,
            "order": null,
            "overflow": null,
            "overflow_x": null,
            "overflow_y": null,
            "padding": null,
            "right": null,
            "top": null,
            "visibility": null,
            "width": null
          }
        },
        "01d6d4770556498e817cbe5055ee6999": {
          "model_module": "@jupyter-widgets/base",
          "model_module_version": "1.2.0",
          "model_name": "LayoutModel",
          "state": {
            "_model_module": "@jupyter-widgets/base",
            "_model_module_version": "1.2.0",
            "_model_name": "LayoutModel",
            "_view_count": null,
            "_view_module": "@jupyter-widgets/base",
            "_view_module_version": "1.2.0",
            "_view_name": "LayoutView",
            "align_content": null,
            "align_items": null,
            "align_self": null,
            "border": null,
            "bottom": null,
            "display": null,
            "flex": null,
            "flex_flow": null,
            "grid_area": null,
            "grid_auto_columns": null,
            "grid_auto_flow": null,
            "grid_auto_rows": null,
            "grid_column": null,
            "grid_gap": null,
            "grid_row": null,
            "grid_template_areas": null,
            "grid_template_columns": null,
            "grid_template_rows": null,
            "height": null,
            "justify_content": null,
            "justify_items": null,
            "left": null,
            "margin": null,
            "max_height": null,
            "max_width": null,
            "min_height": null,
            "min_width": null,
            "object_fit": null,
            "object_position": null,
            "order": null,
            "overflow": null,
            "overflow_x": null,
            "overflow_y": null,
            "padding": null,
            "right": null,
            "top": null,
            "visibility": "hidden",
            "width": null
          }
        },
        "09165438d83346538e65b4015f551173": {
          "model_module": "@jupyter-widgets/base",
          "model_module_version": "1.2.0",
          "model_name": "LayoutModel",
          "state": {
            "_model_module": "@jupyter-widgets/base",
            "_model_module_version": "1.2.0",
            "_model_name": "LayoutModel",
            "_view_count": null,
            "_view_module": "@jupyter-widgets/base",
            "_view_module_version": "1.2.0",
            "_view_name": "LayoutView",
            "align_content": null,
            "align_items": null,
            "align_self": null,
            "border": null,
            "bottom": null,
            "display": null,
            "flex": null,
            "flex_flow": null,
            "grid_area": null,
            "grid_auto_columns": null,
            "grid_auto_flow": null,
            "grid_auto_rows": null,
            "grid_column": null,
            "grid_gap": null,
            "grid_row": null,
            "grid_template_areas": null,
            "grid_template_columns": null,
            "grid_template_rows": null,
            "height": null,
            "justify_content": null,
            "justify_items": null,
            "left": null,
            "margin": null,
            "max_height": null,
            "max_width": null,
            "min_height": null,
            "min_width": null,
            "object_fit": null,
            "object_position": null,
            "order": null,
            "overflow": null,
            "overflow_x": null,
            "overflow_y": null,
            "padding": null,
            "right": null,
            "top": null,
            "visibility": null,
            "width": null
          }
        },
        "0f69ceba3d774c2f96440495df96065e": {
          "model_module": "@jupyter-widgets/base",
          "model_module_version": "1.2.0",
          "model_name": "LayoutModel",
          "state": {
            "_model_module": "@jupyter-widgets/base",
            "_model_module_version": "1.2.0",
            "_model_name": "LayoutModel",
            "_view_count": null,
            "_view_module": "@jupyter-widgets/base",
            "_view_module_version": "1.2.0",
            "_view_name": "LayoutView",
            "align_content": null,
            "align_items": null,
            "align_self": null,
            "border": null,
            "bottom": null,
            "display": null,
            "flex": null,
            "flex_flow": null,
            "grid_area": null,
            "grid_auto_columns": null,
            "grid_auto_flow": null,
            "grid_auto_rows": null,
            "grid_column": null,
            "grid_gap": null,
            "grid_row": null,
            "grid_template_areas": null,
            "grid_template_columns": null,
            "grid_template_rows": null,
            "height": null,
            "justify_content": null,
            "justify_items": null,
            "left": null,
            "margin": null,
            "max_height": null,
            "max_width": null,
            "min_height": null,
            "min_width": null,
            "object_fit": null,
            "object_position": null,
            "order": null,
            "overflow": null,
            "overflow_x": null,
            "overflow_y": null,
            "padding": null,
            "right": null,
            "top": null,
            "visibility": "hidden",
            "width": null
          }
        },
        "0f8c0befdd444d0fbb6ab2c7e2c512e3": {
          "model_module": "@jupyter-widgets/controls",
          "model_module_version": "1.5.0",
          "model_name": "HTMLModel",
          "state": {
            "_dom_classes": [],
            "_model_module": "@jupyter-widgets/controls",
            "_model_module_version": "1.5.0",
            "_model_name": "HTMLModel",
            "_view_count": null,
            "_view_module": "@jupyter-widgets/controls",
            "_view_module_version": "1.5.0",
            "_view_name": "HTMLView",
            "description": "",
            "description_tooltip": null,
            "layout": "IPY_MODEL_ec0b5b10d0944fb583ed9dc5d8256c9b",
            "placeholder": "​",
            "style": "IPY_MODEL_873c9c33319c402885de27a7a4c847bc",
            "value": "Processing: 100%"
          }
        },
        "10feb04d990e422aa3adb0e311ef6122": {
          "model_module": "@jupyter-widgets/controls",
          "model_module_version": "1.5.0",
          "model_name": "HTMLModel",
          "state": {
            "_dom_classes": [],
            "_model_module": "@jupyter-widgets/controls",
            "_model_module_version": "1.5.0",
            "_model_name": "HTMLModel",
            "_view_count": null,
            "_view_module": "@jupyter-widgets/controls",
            "_view_module_version": "1.5.0",
            "_view_name": "HTMLView",
            "description": "",
            "description_tooltip": null,
            "layout": "IPY_MODEL_2e67ddc62d0e4b7084cb7e058e8578b7",
            "placeholder": "​",
            "style": "IPY_MODEL_2de192dd19254fff96b2a79a220399d9",
            "value": "Processing: 100%"
          }
        },
        "176074bf415e4562b0d6965e3144d0aa": {
          "model_module": "@jupyter-widgets/controls",
          "model_module_version": "1.5.0",
          "model_name": "HBoxModel",
          "state": {
            "_dom_classes": [],
            "_model_module": "@jupyter-widgets/controls",
            "_model_module_version": "1.5.0",
            "_model_name": "HBoxModel",
            "_view_count": null,
            "_view_module": "@jupyter-widgets/controls",
            "_view_module_version": "1.5.0",
            "_view_name": "HBoxView",
            "box_style": "",
            "children": [
              "IPY_MODEL_10feb04d990e422aa3adb0e311ef6122",
              "IPY_MODEL_e3cfb79798594aa0b1a68817ea009f67",
              "IPY_MODEL_533966b664bd4ff79caa8818ec171d98"
            ],
            "layout": "IPY_MODEL_e5310fcf43ae4f739cf0ca0049ebdd17"
          }
        },
        "195af84f59f841d194fc9ef9b0e010b7": {
          "model_module": "@jupyter-widgets/base",
          "model_module_version": "1.2.0",
          "model_name": "LayoutModel",
          "state": {
            "_model_module": "@jupyter-widgets/base",
            "_model_module_version": "1.2.0",
            "_model_name": "LayoutModel",
            "_view_count": null,
            "_view_module": "@jupyter-widgets/base",
            "_view_module_version": "1.2.0",
            "_view_name": "LayoutView",
            "align_content": null,
            "align_items": null,
            "align_self": null,
            "border": null,
            "bottom": null,
            "display": null,
            "flex": null,
            "flex_flow": null,
            "grid_area": null,
            "grid_auto_columns": null,
            "grid_auto_flow": null,
            "grid_auto_rows": null,
            "grid_column": null,
            "grid_gap": null,
            "grid_row": null,
            "grid_template_areas": null,
            "grid_template_columns": null,
            "grid_template_rows": null,
            "height": null,
            "justify_content": null,
            "justify_items": null,
            "left": null,
            "margin": null,
            "max_height": null,
            "max_width": null,
            "min_height": null,
            "min_width": null,
            "object_fit": null,
            "object_position": null,
            "order": null,
            "overflow": null,
            "overflow_x": null,
            "overflow_y": null,
            "padding": null,
            "right": null,
            "top": null,
            "visibility": null,
            "width": null
          }
        },
        "2106eedaa2144145a88372c6502eb455": {
          "model_module": "@jupyter-widgets/controls",
          "model_module_version": "1.5.0",
          "model_name": "HTMLModel",
          "state": {
            "_dom_classes": [],
            "_model_module": "@jupyter-widgets/controls",
            "_model_module_version": "1.5.0",
            "_model_name": "HTMLModel",
            "_view_count": null,
            "_view_module": "@jupyter-widgets/controls",
            "_view_module_version": "1.5.0",
            "_view_name": "HTMLView",
            "description": "",
            "description_tooltip": null,
            "layout": "IPY_MODEL_76b568bf822e4532b047927bd0cf7396",
            "placeholder": "​",
            "style": "IPY_MODEL_8d2e0eaeb01a4b4bb97a04fdcf336b2f",
            "value": " 85/85 [00:22&lt;00:00,  2.99it/s]"
          }
        },
        "2435655558ba498ca9c632346f8d6581": {
          "model_module": "@jupyter-widgets/controls",
          "model_module_version": "1.5.0",
          "model_name": "HTMLModel",
          "state": {
            "_dom_classes": [],
            "_model_module": "@jupyter-widgets/controls",
            "_model_module_version": "1.5.0",
            "_model_name": "HTMLModel",
            "_view_count": null,
            "_view_module": "@jupyter-widgets/controls",
            "_view_module_version": "1.5.0",
            "_view_name": "HTMLView",
            "description": "",
            "description_tooltip": null,
            "layout": "IPY_MODEL_ca5f3f74ee324a959ad82e3ac7e3b168",
            "placeholder": "​",
            "style": "IPY_MODEL_0078ff81441d4f149f66a81e5075098a",
            "value": "Processing: 100%"
          }
        },
        "24c146ed11414d03ac7ab0b7d9fcb5c3": {
          "model_module": "@jupyter-widgets/base",
          "model_module_version": "1.2.0",
          "model_name": "LayoutModel",
          "state": {
            "_model_module": "@jupyter-widgets/base",
            "_model_module_version": "1.2.0",
            "_model_name": "LayoutModel",
            "_view_count": null,
            "_view_module": "@jupyter-widgets/base",
            "_view_module_version": "1.2.0",
            "_view_name": "LayoutView",
            "align_content": null,
            "align_items": null,
            "align_self": null,
            "border": null,
            "bottom": null,
            "display": null,
            "flex": null,
            "flex_flow": null,
            "grid_area": null,
            "grid_auto_columns": null,
            "grid_auto_flow": null,
            "grid_auto_rows": null,
            "grid_column": null,
            "grid_gap": null,
            "grid_row": null,
            "grid_template_areas": null,
            "grid_template_columns": null,
            "grid_template_rows": null,
            "height": null,
            "justify_content": null,
            "justify_items": null,
            "left": null,
            "margin": null,
            "max_height": null,
            "max_width": null,
            "min_height": null,
            "min_width": null,
            "object_fit": null,
            "object_position": null,
            "order": null,
            "overflow": null,
            "overflow_x": null,
            "overflow_y": null,
            "padding": null,
            "right": null,
            "top": null,
            "visibility": null,
            "width": null
          }
        },
        "252f0b3366284f7888346df1ee320a32": {
          "model_module": "@jupyter-widgets/controls",
          "model_module_version": "1.5.0",
          "model_name": "ProgressStyleModel",
          "state": {
            "_model_module": "@jupyter-widgets/controls",
            "_model_module_version": "1.5.0",
            "_model_name": "ProgressStyleModel",
            "_view_count": null,
            "_view_module": "@jupyter-widgets/base",
            "_view_module_version": "1.2.0",
            "_view_name": "StyleView",
            "bar_color": null,
            "description_width": ""
          }
        },
        "29d5508840384965bd48efdd1019e053": {
          "model_module": "@jupyter-widgets/base",
          "model_module_version": "1.2.0",
          "model_name": "LayoutModel",
          "state": {
            "_model_module": "@jupyter-widgets/base",
            "_model_module_version": "1.2.0",
            "_model_name": "LayoutModel",
            "_view_count": null,
            "_view_module": "@jupyter-widgets/base",
            "_view_module_version": "1.2.0",
            "_view_name": "LayoutView",
            "align_content": null,
            "align_items": null,
            "align_self": null,
            "border": null,
            "bottom": null,
            "display": null,
            "flex": null,
            "flex_flow": null,
            "grid_area": null,
            "grid_auto_columns": null,
            "grid_auto_flow": null,
            "grid_auto_rows": null,
            "grid_column": null,
            "grid_gap": null,
            "grid_row": null,
            "grid_template_areas": null,
            "grid_template_columns": null,
            "grid_template_rows": null,
            "height": null,
            "justify_content": null,
            "justify_items": null,
            "left": null,
            "margin": null,
            "max_height": null,
            "max_width": null,
            "min_height": null,
            "min_width": null,
            "object_fit": null,
            "object_position": null,
            "order": null,
            "overflow": null,
            "overflow_x": null,
            "overflow_y": null,
            "padding": null,
            "right": null,
            "top": null,
            "visibility": null,
            "width": null
          }
        },
        "2ddac1c19fb44ee4af12f40d471bdb15": {
          "model_module": "@jupyter-widgets/controls",
          "model_module_version": "1.5.0",
          "model_name": "HTMLModel",
          "state": {
            "_dom_classes": [],
            "_model_module": "@jupyter-widgets/controls",
            "_model_module_version": "1.5.0",
            "_model_name": "HTMLModel",
            "_view_count": null,
            "_view_module": "@jupyter-widgets/controls",
            "_view_module_version": "1.5.0",
            "_view_name": "HTMLView",
            "description": "",
            "description_tooltip": null,
            "layout": "IPY_MODEL_00b33e76234b4455888ac37aa6534a60",
            "placeholder": "​",
            "style": "IPY_MODEL_add8f6921ab44c118d38b93d86f59115",
            "value": " 7/7 [00:05&lt;00:00,  1.52it/s]"
          }
        },
        "2de192dd19254fff96b2a79a220399d9": {
          "model_module": "@jupyter-widgets/controls",
          "model_module_version": "1.5.0",
          "model_name": "DescriptionStyleModel",
          "state": {
            "_model_module": "@jupyter-widgets/controls",
            "_model_module_version": "1.5.0",
            "_model_name": "DescriptionStyleModel",
            "_view_count": null,
            "_view_module": "@jupyter-widgets/base",
            "_view_module_version": "1.2.0",
            "_view_name": "StyleView",
            "description_width": ""
          }
        },
        "2e67ddc62d0e4b7084cb7e058e8578b7": {
          "model_module": "@jupyter-widgets/base",
          "model_module_version": "1.2.0",
          "model_name": "LayoutModel",
          "state": {
            "_model_module": "@jupyter-widgets/base",
            "_model_module_version": "1.2.0",
            "_model_name": "LayoutModel",
            "_view_count": null,
            "_view_module": "@jupyter-widgets/base",
            "_view_module_version": "1.2.0",
            "_view_name": "LayoutView",
            "align_content": null,
            "align_items": null,
            "align_self": null,
            "border": null,
            "bottom": null,
            "display": null,
            "flex": null,
            "flex_flow": null,
            "grid_area": null,
            "grid_auto_columns": null,
            "grid_auto_flow": null,
            "grid_auto_rows": null,
            "grid_column": null,
            "grid_gap": null,
            "grid_row": null,
            "grid_template_areas": null,
            "grid_template_columns": null,
            "grid_template_rows": null,
            "height": null,
            "justify_content": null,
            "justify_items": null,
            "left": null,
            "margin": null,
            "max_height": null,
            "max_width": null,
            "min_height": null,
            "min_width": null,
            "object_fit": null,
            "object_position": null,
            "order": null,
            "overflow": null,
            "overflow_x": null,
            "overflow_y": null,
            "padding": null,
            "right": null,
            "top": null,
            "visibility": null,
            "width": null
          }
        },
        "4b2b9a0d5b8e487dbe4c3fd1b0039933": {
          "model_module": "@jupyter-widgets/controls",
          "model_module_version": "1.5.0",
          "model_name": "HTMLModel",
          "state": {
            "_dom_classes": [],
            "_model_module": "@jupyter-widgets/controls",
            "_model_module_version": "1.5.0",
            "_model_name": "HTMLModel",
            "_view_count": null,
            "_view_module": "@jupyter-widgets/controls",
            "_view_module_version": "1.5.0",
            "_view_name": "HTMLView",
            "description": "",
            "description_tooltip": null,
            "layout": "IPY_MODEL_7d68abeed0fa4e42acca0752745e18d5",
            "placeholder": "​",
            "style": "IPY_MODEL_d62528aa43b84e71847a3aa895f23f86",
            "value": " 85/85 [00:20&lt;00:00,  3.02it/s]"
          }
        },
        "4c90a6176ebe4bfebc9dc4d9f71a5f9f": {
          "model_module": "@jupyter-widgets/controls",
          "model_module_version": "1.5.0",
          "model_name": "ProgressStyleModel",
          "state": {
            "_model_module": "@jupyter-widgets/controls",
            "_model_module_version": "1.5.0",
            "_model_name": "ProgressStyleModel",
            "_view_count": null,
            "_view_module": "@jupyter-widgets/base",
            "_view_module_version": "1.2.0",
            "_view_name": "StyleView",
            "bar_color": null,
            "description_width": ""
          }
        },
        "4e8adc6dc9094ab692bb08c272727da2": {
          "model_module": "@jupyter-widgets/base",
          "model_module_version": "1.2.0",
          "model_name": "LayoutModel",
          "state": {
            "_model_module": "@jupyter-widgets/base",
            "_model_module_version": "1.2.0",
            "_model_name": "LayoutModel",
            "_view_count": null,
            "_view_module": "@jupyter-widgets/base",
            "_view_module_version": "1.2.0",
            "_view_name": "LayoutView",
            "align_content": null,
            "align_items": null,
            "align_self": null,
            "border": null,
            "bottom": null,
            "display": null,
            "flex": null,
            "flex_flow": null,
            "grid_area": null,
            "grid_auto_columns": null,
            "grid_auto_flow": null,
            "grid_auto_rows": null,
            "grid_column": null,
            "grid_gap": null,
            "grid_row": null,
            "grid_template_areas": null,
            "grid_template_columns": null,
            "grid_template_rows": null,
            "height": null,
            "justify_content": null,
            "justify_items": null,
            "left": null,
            "margin": null,
            "max_height": null,
            "max_width": null,
            "min_height": null,
            "min_width": null,
            "object_fit": null,
            "object_position": null,
            "order": null,
            "overflow": null,
            "overflow_x": null,
            "overflow_y": null,
            "padding": null,
            "right": null,
            "top": null,
            "visibility": null,
            "width": null
          }
        },
        "4fe33c018967496f8758235824e6d44b": {
          "model_module": "@jupyter-widgets/base",
          "model_module_version": "1.2.0",
          "model_name": "LayoutModel",
          "state": {
            "_model_module": "@jupyter-widgets/base",
            "_model_module_version": "1.2.0",
            "_model_name": "LayoutModel",
            "_view_count": null,
            "_view_module": "@jupyter-widgets/base",
            "_view_module_version": "1.2.0",
            "_view_name": "LayoutView",
            "align_content": null,
            "align_items": null,
            "align_self": null,
            "border": null,
            "bottom": null,
            "display": null,
            "flex": null,
            "flex_flow": null,
            "grid_area": null,
            "grid_auto_columns": null,
            "grid_auto_flow": null,
            "grid_auto_rows": null,
            "grid_column": null,
            "grid_gap": null,
            "grid_row": null,
            "grid_template_areas": null,
            "grid_template_columns": null,
            "grid_template_rows": null,
            "height": null,
            "justify_content": null,
            "justify_items": null,
            "left": null,
            "margin": null,
            "max_height": null,
            "max_width": null,
            "min_height": null,
            "min_width": null,
            "object_fit": null,
            "object_position": null,
            "order": null,
            "overflow": null,
            "overflow_x": null,
            "overflow_y": null,
            "padding": null,
            "right": null,
            "top": null,
            "visibility": null,
            "width": null
          }
        },
        "533966b664bd4ff79caa8818ec171d98": {
          "model_module": "@jupyter-widgets/controls",
          "model_module_version": "1.5.0",
          "model_name": "HTMLModel",
          "state": {
            "_dom_classes": [],
            "_model_module": "@jupyter-widgets/controls",
            "_model_module_version": "1.5.0",
            "_model_name": "HTMLModel",
            "_view_count": null,
            "_view_module": "@jupyter-widgets/controls",
            "_view_module_version": "1.5.0",
            "_view_name": "HTMLView",
            "description": "",
            "description_tooltip": null,
            "layout": "IPY_MODEL_6304ec474f254850bb58059d38db930f",
            "placeholder": "​",
            "style": "IPY_MODEL_894e596749b0438c9077d495a1f2d2f1",
            "value": " 85/85 [00:24&lt;00:00,  2.30it/s]"
          }
        },
        "5a061123a07d45b0be13299e48f551b9": {
          "model_module": "@jupyter-widgets/controls",
          "model_module_version": "1.5.0",
          "model_name": "DescriptionStyleModel",
          "state": {
            "_model_module": "@jupyter-widgets/controls",
            "_model_module_version": "1.5.0",
            "_model_name": "DescriptionStyleModel",
            "_view_count": null,
            "_view_module": "@jupyter-widgets/base",
            "_view_module_version": "1.2.0",
            "_view_name": "StyleView",
            "description_width": ""
          }
        },
        "5c4583f05a904a9e97d25b10f596ce8b": {
          "model_module": "@jupyter-widgets/controls",
          "model_module_version": "1.5.0",
          "model_name": "HTMLModel",
          "state": {
            "_dom_classes": [],
            "_model_module": "@jupyter-widgets/controls",
            "_model_module_version": "1.5.0",
            "_model_name": "HTMLModel",
            "_view_count": null,
            "_view_module": "@jupyter-widgets/controls",
            "_view_module_version": "1.5.0",
            "_view_name": "HTMLView",
            "description": "",
            "description_tooltip": null,
            "layout": "IPY_MODEL_29d5508840384965bd48efdd1019e053",
            "placeholder": "​",
            "style": "IPY_MODEL_ede483e78f4c490cb6d361a490b28853",
            "value": "Processing: 100%"
          }
        },
        "60f5d79bd91f425db38fc5992bc27bfb": {
          "model_module": "@jupyter-widgets/controls",
          "model_module_version": "1.5.0",
          "model_name": "DescriptionStyleModel",
          "state": {
            "_model_module": "@jupyter-widgets/controls",
            "_model_module_version": "1.5.0",
            "_model_name": "DescriptionStyleModel",
            "_view_count": null,
            "_view_module": "@jupyter-widgets/base",
            "_view_module_version": "1.2.0",
            "_view_name": "StyleView",
            "description_width": ""
          }
        },
        "62392a649e9d4e21915ec5d0dd663a74": {
          "model_module": "@jupyter-widgets/base",
          "model_module_version": "1.2.0",
          "model_name": "LayoutModel",
          "state": {
            "_model_module": "@jupyter-widgets/base",
            "_model_module_version": "1.2.0",
            "_model_name": "LayoutModel",
            "_view_count": null,
            "_view_module": "@jupyter-widgets/base",
            "_view_module_version": "1.2.0",
            "_view_name": "LayoutView",
            "align_content": null,
            "align_items": null,
            "align_self": null,
            "border": null,
            "bottom": null,
            "display": null,
            "flex": null,
            "flex_flow": null,
            "grid_area": null,
            "grid_auto_columns": null,
            "grid_auto_flow": null,
            "grid_auto_rows": null,
            "grid_column": null,
            "grid_gap": null,
            "grid_row": null,
            "grid_template_areas": null,
            "grid_template_columns": null,
            "grid_template_rows": null,
            "height": null,
            "justify_content": null,
            "justify_items": null,
            "left": null,
            "margin": null,
            "max_height": null,
            "max_width": null,
            "min_height": null,
            "min_width": null,
            "object_fit": null,
            "object_position": null,
            "order": null,
            "overflow": null,
            "overflow_x": null,
            "overflow_y": null,
            "padding": null,
            "right": null,
            "top": null,
            "visibility": null,
            "width": null
          }
        },
        "6304ec474f254850bb58059d38db930f": {
          "model_module": "@jupyter-widgets/base",
          "model_module_version": "1.2.0",
          "model_name": "LayoutModel",
          "state": {
            "_model_module": "@jupyter-widgets/base",
            "_model_module_version": "1.2.0",
            "_model_name": "LayoutModel",
            "_view_count": null,
            "_view_module": "@jupyter-widgets/base",
            "_view_module_version": "1.2.0",
            "_view_name": "LayoutView",
            "align_content": null,
            "align_items": null,
            "align_self": null,
            "border": null,
            "bottom": null,
            "display": null,
            "flex": null,
            "flex_flow": null,
            "grid_area": null,
            "grid_auto_columns": null,
            "grid_auto_flow": null,
            "grid_auto_rows": null,
            "grid_column": null,
            "grid_gap": null,
            "grid_row": null,
            "grid_template_areas": null,
            "grid_template_columns": null,
            "grid_template_rows": null,
            "height": null,
            "justify_content": null,
            "justify_items": null,
            "left": null,
            "margin": null,
            "max_height": null,
            "max_width": null,
            "min_height": null,
            "min_width": null,
            "object_fit": null,
            "object_position": null,
            "order": null,
            "overflow": null,
            "overflow_x": null,
            "overflow_y": null,
            "padding": null,
            "right": null,
            "top": null,
            "visibility": null,
            "width": null
          }
        },
        "7009052d21534227a3711de5b73c07c2": {
          "model_module": "@jupyter-widgets/controls",
          "model_module_version": "1.5.0",
          "model_name": "HBoxModel",
          "state": {
            "_dom_classes": [],
            "_model_module": "@jupyter-widgets/controls",
            "_model_module_version": "1.5.0",
            "_model_name": "HBoxModel",
            "_view_count": null,
            "_view_module": "@jupyter-widgets/controls",
            "_view_module_version": "1.5.0",
            "_view_name": "HBoxView",
            "box_style": "",
            "children": [
              "IPY_MODEL_2435655558ba498ca9c632346f8d6581",
              "IPY_MODEL_7c699d8573ee46f9aea099a8fac3fe59",
              "IPY_MODEL_2ddac1c19fb44ee4af12f40d471bdb15"
            ],
            "layout": "IPY_MODEL_0f69ceba3d774c2f96440495df96065e"
          }
        },
        "7304a4dfe7a1456c9135e3db04c6fa51": {
          "model_module": "@jupyter-widgets/controls",
          "model_module_version": "1.5.0",
          "model_name": "ProgressStyleModel",
          "state": {
            "_model_module": "@jupyter-widgets/controls",
            "_model_module_version": "1.5.0",
            "_model_name": "ProgressStyleModel",
            "_view_count": null,
            "_view_module": "@jupyter-widgets/base",
            "_view_module_version": "1.2.0",
            "_view_name": "StyleView",
            "bar_color": null,
            "description_width": ""
          }
        },
        "76b568bf822e4532b047927bd0cf7396": {
          "model_module": "@jupyter-widgets/base",
          "model_module_version": "1.2.0",
          "model_name": "LayoutModel",
          "state": {
            "_model_module": "@jupyter-widgets/base",
            "_model_module_version": "1.2.0",
            "_model_name": "LayoutModel",
            "_view_count": null,
            "_view_module": "@jupyter-widgets/base",
            "_view_module_version": "1.2.0",
            "_view_name": "LayoutView",
            "align_content": null,
            "align_items": null,
            "align_self": null,
            "border": null,
            "bottom": null,
            "display": null,
            "flex": null,
            "flex_flow": null,
            "grid_area": null,
            "grid_auto_columns": null,
            "grid_auto_flow": null,
            "grid_auto_rows": null,
            "grid_column": null,
            "grid_gap": null,
            "grid_row": null,
            "grid_template_areas": null,
            "grid_template_columns": null,
            "grid_template_rows": null,
            "height": null,
            "justify_content": null,
            "justify_items": null,
            "left": null,
            "margin": null,
            "max_height": null,
            "max_width": null,
            "min_height": null,
            "min_width": null,
            "object_fit": null,
            "object_position": null,
            "order": null,
            "overflow": null,
            "overflow_x": null,
            "overflow_y": null,
            "padding": null,
            "right": null,
            "top": null,
            "visibility": null,
            "width": null
          }
        },
        "7a67db649ae74662a5850187c63dcd9d": {
          "model_module": "@jupyter-widgets/controls",
          "model_module_version": "1.5.0",
          "model_name": "HTMLModel",
          "state": {
            "_dom_classes": [],
            "_model_module": "@jupyter-widgets/controls",
            "_model_module_version": "1.5.0",
            "_model_name": "HTMLModel",
            "_view_count": null,
            "_view_module": "@jupyter-widgets/controls",
            "_view_module_version": "1.5.0",
            "_view_name": "HTMLView",
            "description": "",
            "description_tooltip": null,
            "layout": "IPY_MODEL_ccce7bef48ce48ff832b0e54d31d00d0",
            "placeholder": "​",
            "style": "IPY_MODEL_c1a4310a181d4fc88d83351aaf9f0962",
            "value": " 7/7 [00:12&lt;00:00,  1.59s/it]"
          }
        },
        "7b6b9cec48104683b54276e299cf6dfa": {
          "model_module": "@jupyter-widgets/base",
          "model_module_version": "1.2.0",
          "model_name": "LayoutModel",
          "state": {
            "_model_module": "@jupyter-widgets/base",
            "_model_module_version": "1.2.0",
            "_model_name": "LayoutModel",
            "_view_count": null,
            "_view_module": "@jupyter-widgets/base",
            "_view_module_version": "1.2.0",
            "_view_name": "LayoutView",
            "align_content": null,
            "align_items": null,
            "align_self": null,
            "border": null,
            "bottom": null,
            "display": null,
            "flex": null,
            "flex_flow": null,
            "grid_area": null,
            "grid_auto_columns": null,
            "grid_auto_flow": null,
            "grid_auto_rows": null,
            "grid_column": null,
            "grid_gap": null,
            "grid_row": null,
            "grid_template_areas": null,
            "grid_template_columns": null,
            "grid_template_rows": null,
            "height": null,
            "justify_content": null,
            "justify_items": null,
            "left": null,
            "margin": null,
            "max_height": null,
            "max_width": null,
            "min_height": null,
            "min_width": null,
            "object_fit": null,
            "object_position": null,
            "order": null,
            "overflow": null,
            "overflow_x": null,
            "overflow_y": null,
            "padding": null,
            "right": null,
            "top": null,
            "visibility": null,
            "width": null
          }
        },
        "7c699d8573ee46f9aea099a8fac3fe59": {
          "model_module": "@jupyter-widgets/controls",
          "model_module_version": "1.5.0",
          "model_name": "FloatProgressModel",
          "state": {
            "_dom_classes": [],
            "_model_module": "@jupyter-widgets/controls",
            "_model_module_version": "1.5.0",
            "_model_name": "FloatProgressModel",
            "_view_count": null,
            "_view_module": "@jupyter-widgets/controls",
            "_view_module_version": "1.5.0",
            "_view_name": "ProgressView",
            "bar_style": "",
            "description": "",
            "description_tooltip": null,
            "layout": "IPY_MODEL_4fe33c018967496f8758235824e6d44b",
            "max": 7,
            "min": 0,
            "orientation": "horizontal",
            "style": "IPY_MODEL_252f0b3366284f7888346df1ee320a32",
            "value": 7
          }
        },
        "7d68abeed0fa4e42acca0752745e18d5": {
          "model_module": "@jupyter-widgets/base",
          "model_module_version": "1.2.0",
          "model_name": "LayoutModel",
          "state": {
            "_model_module": "@jupyter-widgets/base",
            "_model_module_version": "1.2.0",
            "_model_name": "LayoutModel",
            "_view_count": null,
            "_view_module": "@jupyter-widgets/base",
            "_view_module_version": "1.2.0",
            "_view_name": "LayoutView",
            "align_content": null,
            "align_items": null,
            "align_self": null,
            "border": null,
            "bottom": null,
            "display": null,
            "flex": null,
            "flex_flow": null,
            "grid_area": null,
            "grid_auto_columns": null,
            "grid_auto_flow": null,
            "grid_auto_rows": null,
            "grid_column": null,
            "grid_gap": null,
            "grid_row": null,
            "grid_template_areas": null,
            "grid_template_columns": null,
            "grid_template_rows": null,
            "height": null,
            "justify_content": null,
            "justify_items": null,
            "left": null,
            "margin": null,
            "max_height": null,
            "max_width": null,
            "min_height": null,
            "min_width": null,
            "object_fit": null,
            "object_position": null,
            "order": null,
            "overflow": null,
            "overflow_x": null,
            "overflow_y": null,
            "padding": null,
            "right": null,
            "top": null,
            "visibility": null,
            "width": null
          }
        },
        "873c9c33319c402885de27a7a4c847bc": {
          "model_module": "@jupyter-widgets/controls",
          "model_module_version": "1.5.0",
          "model_name": "DescriptionStyleModel",
          "state": {
            "_model_module": "@jupyter-widgets/controls",
            "_model_module_version": "1.5.0",
            "_model_name": "DescriptionStyleModel",
            "_view_count": null,
            "_view_module": "@jupyter-widgets/base",
            "_view_module_version": "1.2.0",
            "_view_name": "StyleView",
            "description_width": ""
          }
        },
        "894e596749b0438c9077d495a1f2d2f1": {
          "model_module": "@jupyter-widgets/controls",
          "model_module_version": "1.5.0",
          "model_name": "DescriptionStyleModel",
          "state": {
            "_model_module": "@jupyter-widgets/controls",
            "_model_module_version": "1.5.0",
            "_model_name": "DescriptionStyleModel",
            "_view_count": null,
            "_view_module": "@jupyter-widgets/base",
            "_view_module_version": "1.2.0",
            "_view_name": "StyleView",
            "description_width": ""
          }
        },
        "8d20dcebed654af79f6dafc0672be463": {
          "model_module": "@jupyter-widgets/controls",
          "model_module_version": "1.5.0",
          "model_name": "FloatProgressModel",
          "state": {
            "_dom_classes": [],
            "_model_module": "@jupyter-widgets/controls",
            "_model_module_version": "1.5.0",
            "_model_name": "FloatProgressModel",
            "_view_count": null,
            "_view_module": "@jupyter-widgets/controls",
            "_view_module_version": "1.5.0",
            "_view_name": "ProgressView",
            "bar_style": "",
            "description": "",
            "description_tooltip": null,
            "layout": "IPY_MODEL_09165438d83346538e65b4015f551173",
            "max": 85,
            "min": 0,
            "orientation": "horizontal",
            "style": "IPY_MODEL_7304a4dfe7a1456c9135e3db04c6fa51",
            "value": 85
          }
        },
        "8d2e0eaeb01a4b4bb97a04fdcf336b2f": {
          "model_module": "@jupyter-widgets/controls",
          "model_module_version": "1.5.0",
          "model_name": "DescriptionStyleModel",
          "state": {
            "_model_module": "@jupyter-widgets/controls",
            "_model_module_version": "1.5.0",
            "_model_name": "DescriptionStyleModel",
            "_view_count": null,
            "_view_module": "@jupyter-widgets/base",
            "_view_module_version": "1.2.0",
            "_view_name": "StyleView",
            "description_width": ""
          }
        },
        "8e1bd0d30ca64eb29474b8c5a3d0386c": {
          "model_module": "@jupyter-widgets/controls",
          "model_module_version": "1.5.0",
          "model_name": "HBoxModel",
          "state": {
            "_dom_classes": [],
            "_model_module": "@jupyter-widgets/controls",
            "_model_module_version": "1.5.0",
            "_model_name": "HBoxModel",
            "_view_count": null,
            "_view_module": "@jupyter-widgets/controls",
            "_view_module_version": "1.5.0",
            "_view_name": "HBoxView",
            "box_style": "",
            "children": [
              "IPY_MODEL_9e9797ae238e4b73946ec634096176ee",
              "IPY_MODEL_8d20dcebed654af79f6dafc0672be463",
              "IPY_MODEL_2106eedaa2144145a88372c6502eb455"
            ],
            "layout": "IPY_MODEL_d0543aef3d4a42f78a0bfc5deffd950a"
          }
        },
        "9e9797ae238e4b73946ec634096176ee": {
          "model_module": "@jupyter-widgets/controls",
          "model_module_version": "1.5.0",
          "model_name": "HTMLModel",
          "state": {
            "_dom_classes": [],
            "_model_module": "@jupyter-widgets/controls",
            "_model_module_version": "1.5.0",
            "_model_name": "HTMLModel",
            "_view_count": null,
            "_view_module": "@jupyter-widgets/controls",
            "_view_module_version": "1.5.0",
            "_view_name": "HTMLView",
            "description": "",
            "description_tooltip": null,
            "layout": "IPY_MODEL_195af84f59f841d194fc9ef9b0e010b7",
            "placeholder": "​",
            "style": "IPY_MODEL_5a061123a07d45b0be13299e48f551b9",
            "value": "Processing: 100%"
          }
        },
        "a2e528a510aa41198fa69b24c4cf8144": {
          "model_module": "@jupyter-widgets/controls",
          "model_module_version": "1.5.0",
          "model_name": "HBoxModel",
          "state": {
            "_dom_classes": [],
            "_model_module": "@jupyter-widgets/controls",
            "_model_module_version": "1.5.0",
            "_model_name": "HBoxModel",
            "_view_count": null,
            "_view_module": "@jupyter-widgets/controls",
            "_view_module_version": "1.5.0",
            "_view_name": "HBoxView",
            "box_style": "",
            "children": [
              "IPY_MODEL_5c4583f05a904a9e97d25b10f596ce8b",
              "IPY_MODEL_b7a227b8c7b74bc0a93ee62987bc7727",
              "IPY_MODEL_7a67db649ae74662a5850187c63dcd9d"
            ],
            "layout": "IPY_MODEL_ab746263a57d4ab78af42fa730854ebe"
          }
        },
        "a69eb01ad3724379a299eded6954b1b0": {
          "model_module": "@jupyter-widgets/base",
          "model_module_version": "1.2.0",
          "model_name": "LayoutModel",
          "state": {
            "_model_module": "@jupyter-widgets/base",
            "_model_module_version": "1.2.0",
            "_model_name": "LayoutModel",
            "_view_count": null,
            "_view_module": "@jupyter-widgets/base",
            "_view_module_version": "1.2.0",
            "_view_name": "LayoutView",
            "align_content": null,
            "align_items": null,
            "align_self": null,
            "border": null,
            "bottom": null,
            "display": null,
            "flex": null,
            "flex_flow": null,
            "grid_area": null,
            "grid_auto_columns": null,
            "grid_auto_flow": null,
            "grid_auto_rows": null,
            "grid_column": null,
            "grid_gap": null,
            "grid_row": null,
            "grid_template_areas": null,
            "grid_template_columns": null,
            "grid_template_rows": null,
            "height": null,
            "justify_content": null,
            "justify_items": null,
            "left": null,
            "margin": null,
            "max_height": null,
            "max_width": null,
            "min_height": null,
            "min_width": null,
            "object_fit": null,
            "object_position": null,
            "order": null,
            "overflow": null,
            "overflow_x": null,
            "overflow_y": null,
            "padding": null,
            "right": null,
            "top": null,
            "visibility": null,
            "width": null
          }
        },
        "a77a8f446ec342b9a55c6489163ad61a": {
          "model_module": "@jupyter-widgets/base",
          "model_module_version": "1.2.0",
          "model_name": "LayoutModel",
          "state": {
            "_model_module": "@jupyter-widgets/base",
            "_model_module_version": "1.2.0",
            "_model_name": "LayoutModel",
            "_view_count": null,
            "_view_module": "@jupyter-widgets/base",
            "_view_module_version": "1.2.0",
            "_view_name": "LayoutView",
            "align_content": null,
            "align_items": null,
            "align_self": null,
            "border": null,
            "bottom": null,
            "display": null,
            "flex": null,
            "flex_flow": null,
            "grid_area": null,
            "grid_auto_columns": null,
            "grid_auto_flow": null,
            "grid_auto_rows": null,
            "grid_column": null,
            "grid_gap": null,
            "grid_row": null,
            "grid_template_areas": null,
            "grid_template_columns": null,
            "grid_template_rows": null,
            "height": null,
            "justify_content": null,
            "justify_items": null,
            "left": null,
            "margin": null,
            "max_height": null,
            "max_width": null,
            "min_height": null,
            "min_width": null,
            "object_fit": null,
            "object_position": null,
            "order": null,
            "overflow": null,
            "overflow_x": null,
            "overflow_y": null,
            "padding": null,
            "right": null,
            "top": null,
            "visibility": null,
            "width": null
          }
        },
        "ab746263a57d4ab78af42fa730854ebe": {
          "model_module": "@jupyter-widgets/base",
          "model_module_version": "1.2.0",
          "model_name": "LayoutModel",
          "state": {
            "_model_module": "@jupyter-widgets/base",
            "_model_module_version": "1.2.0",
            "_model_name": "LayoutModel",
            "_view_count": null,
            "_view_module": "@jupyter-widgets/base",
            "_view_module_version": "1.2.0",
            "_view_name": "LayoutView",
            "align_content": null,
            "align_items": null,
            "align_self": null,
            "border": null,
            "bottom": null,
            "display": null,
            "flex": null,
            "flex_flow": null,
            "grid_area": null,
            "grid_auto_columns": null,
            "grid_auto_flow": null,
            "grid_auto_rows": null,
            "grid_column": null,
            "grid_gap": null,
            "grid_row": null,
            "grid_template_areas": null,
            "grid_template_columns": null,
            "grid_template_rows": null,
            "height": null,
            "justify_content": null,
            "justify_items": null,
            "left": null,
            "margin": null,
            "max_height": null,
            "max_width": null,
            "min_height": null,
            "min_width": null,
            "object_fit": null,
            "object_position": null,
            "order": null,
            "overflow": null,
            "overflow_x": null,
            "overflow_y": null,
            "padding": null,
            "right": null,
            "top": null,
            "visibility": "hidden",
            "width": null
          }
        },
        "add8f6921ab44c118d38b93d86f59115": {
          "model_module": "@jupyter-widgets/controls",
          "model_module_version": "1.5.0",
          "model_name": "DescriptionStyleModel",
          "state": {
            "_model_module": "@jupyter-widgets/controls",
            "_model_module_version": "1.5.0",
            "_model_name": "DescriptionStyleModel",
            "_view_count": null,
            "_view_module": "@jupyter-widgets/base",
            "_view_module_version": "1.2.0",
            "_view_name": "StyleView",
            "description_width": ""
          }
        },
        "b7a227b8c7b74bc0a93ee62987bc7727": {
          "model_module": "@jupyter-widgets/controls",
          "model_module_version": "1.5.0",
          "model_name": "FloatProgressModel",
          "state": {
            "_dom_classes": [],
            "_model_module": "@jupyter-widgets/controls",
            "_model_module_version": "1.5.0",
            "_model_name": "FloatProgressModel",
            "_view_count": null,
            "_view_module": "@jupyter-widgets/controls",
            "_view_module_version": "1.5.0",
            "_view_name": "ProgressView",
            "bar_style": "",
            "description": "",
            "description_tooltip": null,
            "layout": "IPY_MODEL_62392a649e9d4e21915ec5d0dd663a74",
            "max": 7,
            "min": 0,
            "orientation": "horizontal",
            "style": "IPY_MODEL_fd97cf2281d74da7af5afcacb8a038ad",
            "value": 7
          }
        },
        "bce9eb87f76547feb97c3b1f32f23c93": {
          "model_module": "@jupyter-widgets/controls",
          "model_module_version": "1.5.0",
          "model_name": "FloatProgressModel",
          "state": {
            "_dom_classes": [],
            "_model_module": "@jupyter-widgets/controls",
            "_model_module_version": "1.5.0",
            "_model_name": "FloatProgressModel",
            "_view_count": null,
            "_view_module": "@jupyter-widgets/controls",
            "_view_module_version": "1.5.0",
            "_view_name": "ProgressView",
            "bar_style": "",
            "description": "",
            "description_tooltip": null,
            "layout": "IPY_MODEL_4e8adc6dc9094ab692bb08c272727da2",
            "max": 85,
            "min": 0,
            "orientation": "horizontal",
            "style": "IPY_MODEL_4c90a6176ebe4bfebc9dc4d9f71a5f9f",
            "value": 85
          }
        },
        "bd710cf40190453183a9c14f63be0398": {
          "model_module": "@jupyter-widgets/controls",
          "model_module_version": "1.5.0",
          "model_name": "HTMLModel",
          "state": {
            "_dom_classes": [],
            "_model_module": "@jupyter-widgets/controls",
            "_model_module_version": "1.5.0",
            "_model_name": "HTMLModel",
            "_view_count": null,
            "_view_module": "@jupyter-widgets/controls",
            "_view_module_version": "1.5.0",
            "_view_name": "HTMLView",
            "description": "",
            "description_tooltip": null,
            "layout": "IPY_MODEL_24c146ed11414d03ac7ab0b7d9fcb5c3",
            "placeholder": "​",
            "style": "IPY_MODEL_db84e419e48d40b39e675e3d9b29159a",
            "value": "Processing: 100%"
          }
        },
        "be62649b50b841739c28333d1dc96bff": {
          "model_module": "@jupyter-widgets/controls",
          "model_module_version": "1.5.0",
          "model_name": "HBoxModel",
          "state": {
            "_dom_classes": [],
            "_model_module": "@jupyter-widgets/controls",
            "_model_module_version": "1.5.0",
            "_model_name": "HBoxModel",
            "_view_count": null,
            "_view_module": "@jupyter-widgets/controls",
            "_view_module_version": "1.5.0",
            "_view_name": "HBoxView",
            "box_style": "",
            "children": [
              "IPY_MODEL_0f8c0befdd444d0fbb6ab2c7e2c512e3",
              "IPY_MODEL_fd5b6efbc8144fa79524a7ac44f850d3",
              "IPY_MODEL_d85c40129fc448b389ce29dae1f8078c"
            ],
            "layout": "IPY_MODEL_01d6d4770556498e817cbe5055ee6999"
          }
        },
        "c10d4c94a6df4389baf3ea49cf246876": {
          "model_module": "@jupyter-widgets/base",
          "model_module_version": "1.2.0",
          "model_name": "LayoutModel",
          "state": {
            "_model_module": "@jupyter-widgets/base",
            "_model_module_version": "1.2.0",
            "_model_name": "LayoutModel",
            "_view_count": null,
            "_view_module": "@jupyter-widgets/base",
            "_view_module_version": "1.2.0",
            "_view_name": "LayoutView",
            "align_content": null,
            "align_items": null,
            "align_self": null,
            "border": null,
            "bottom": null,
            "display": null,
            "flex": null,
            "flex_flow": null,
            "grid_area": null,
            "grid_auto_columns": null,
            "grid_auto_flow": null,
            "grid_auto_rows": null,
            "grid_column": null,
            "grid_gap": null,
            "grid_row": null,
            "grid_template_areas": null,
            "grid_template_columns": null,
            "grid_template_rows": null,
            "height": null,
            "justify_content": null,
            "justify_items": null,
            "left": null,
            "margin": null,
            "max_height": null,
            "max_width": null,
            "min_height": null,
            "min_width": null,
            "object_fit": null,
            "object_position": null,
            "order": null,
            "overflow": null,
            "overflow_x": null,
            "overflow_y": null,
            "padding": null,
            "right": null,
            "top": null,
            "visibility": "hidden",
            "width": null
          }
        },
        "c1a4310a181d4fc88d83351aaf9f0962": {
          "model_module": "@jupyter-widgets/controls",
          "model_module_version": "1.5.0",
          "model_name": "DescriptionStyleModel",
          "state": {
            "_model_module": "@jupyter-widgets/controls",
            "_model_module_version": "1.5.0",
            "_model_name": "DescriptionStyleModel",
            "_view_count": null,
            "_view_module": "@jupyter-widgets/base",
            "_view_module_version": "1.2.0",
            "_view_name": "StyleView",
            "description_width": ""
          }
        },
        "c86351e4ff2f4e7e889fe04fb954d41b": {
          "model_module": "@jupyter-widgets/controls",
          "model_module_version": "1.5.0",
          "model_name": "ProgressStyleModel",
          "state": {
            "_model_module": "@jupyter-widgets/controls",
            "_model_module_version": "1.5.0",
            "_model_name": "ProgressStyleModel",
            "_view_count": null,
            "_view_module": "@jupyter-widgets/base",
            "_view_module_version": "1.2.0",
            "_view_name": "StyleView",
            "bar_color": null,
            "description_width": ""
          }
        },
        "ca5f3f74ee324a959ad82e3ac7e3b168": {
          "model_module": "@jupyter-widgets/base",
          "model_module_version": "1.2.0",
          "model_name": "LayoutModel",
          "state": {
            "_model_module": "@jupyter-widgets/base",
            "_model_module_version": "1.2.0",
            "_model_name": "LayoutModel",
            "_view_count": null,
            "_view_module": "@jupyter-widgets/base",
            "_view_module_version": "1.2.0",
            "_view_name": "LayoutView",
            "align_content": null,
            "align_items": null,
            "align_self": null,
            "border": null,
            "bottom": null,
            "display": null,
            "flex": null,
            "flex_flow": null,
            "grid_area": null,
            "grid_auto_columns": null,
            "grid_auto_flow": null,
            "grid_auto_rows": null,
            "grid_column": null,
            "grid_gap": null,
            "grid_row": null,
            "grid_template_areas": null,
            "grid_template_columns": null,
            "grid_template_rows": null,
            "height": null,
            "justify_content": null,
            "justify_items": null,
            "left": null,
            "margin": null,
            "max_height": null,
            "max_width": null,
            "min_height": null,
            "min_width": null,
            "object_fit": null,
            "object_position": null,
            "order": null,
            "overflow": null,
            "overflow_x": null,
            "overflow_y": null,
            "padding": null,
            "right": null,
            "top": null,
            "visibility": null,
            "width": null
          }
        },
        "ccce7bef48ce48ff832b0e54d31d00d0": {
          "model_module": "@jupyter-widgets/base",
          "model_module_version": "1.2.0",
          "model_name": "LayoutModel",
          "state": {
            "_model_module": "@jupyter-widgets/base",
            "_model_module_version": "1.2.0",
            "_model_name": "LayoutModel",
            "_view_count": null,
            "_view_module": "@jupyter-widgets/base",
            "_view_module_version": "1.2.0",
            "_view_name": "LayoutView",
            "align_content": null,
            "align_items": null,
            "align_self": null,
            "border": null,
            "bottom": null,
            "display": null,
            "flex": null,
            "flex_flow": null,
            "grid_area": null,
            "grid_auto_columns": null,
            "grid_auto_flow": null,
            "grid_auto_rows": null,
            "grid_column": null,
            "grid_gap": null,
            "grid_row": null,
            "grid_template_areas": null,
            "grid_template_columns": null,
            "grid_template_rows": null,
            "height": null,
            "justify_content": null,
            "justify_items": null,
            "left": null,
            "margin": null,
            "max_height": null,
            "max_width": null,
            "min_height": null,
            "min_width": null,
            "object_fit": null,
            "object_position": null,
            "order": null,
            "overflow": null,
            "overflow_x": null,
            "overflow_y": null,
            "padding": null,
            "right": null,
            "top": null,
            "visibility": null,
            "width": null
          }
        },
        "d0543aef3d4a42f78a0bfc5deffd950a": {
          "model_module": "@jupyter-widgets/base",
          "model_module_version": "1.2.0",
          "model_name": "LayoutModel",
          "state": {
            "_model_module": "@jupyter-widgets/base",
            "_model_module_version": "1.2.0",
            "_model_name": "LayoutModel",
            "_view_count": null,
            "_view_module": "@jupyter-widgets/base",
            "_view_module_version": "1.2.0",
            "_view_name": "LayoutView",
            "align_content": null,
            "align_items": null,
            "align_self": null,
            "border": null,
            "bottom": null,
            "display": null,
            "flex": null,
            "flex_flow": null,
            "grid_area": null,
            "grid_auto_columns": null,
            "grid_auto_flow": null,
            "grid_auto_rows": null,
            "grid_column": null,
            "grid_gap": null,
            "grid_row": null,
            "grid_template_areas": null,
            "grid_template_columns": null,
            "grid_template_rows": null,
            "height": null,
            "justify_content": null,
            "justify_items": null,
            "left": null,
            "margin": null,
            "max_height": null,
            "max_width": null,
            "min_height": null,
            "min_width": null,
            "object_fit": null,
            "object_position": null,
            "order": null,
            "overflow": null,
            "overflow_x": null,
            "overflow_y": null,
            "padding": null,
            "right": null,
            "top": null,
            "visibility": "hidden",
            "width": null
          }
        },
        "d62528aa43b84e71847a3aa895f23f86": {
          "model_module": "@jupyter-widgets/controls",
          "model_module_version": "1.5.0",
          "model_name": "DescriptionStyleModel",
          "state": {
            "_model_module": "@jupyter-widgets/controls",
            "_model_module_version": "1.5.0",
            "_model_name": "DescriptionStyleModel",
            "_view_count": null,
            "_view_module": "@jupyter-widgets/base",
            "_view_module_version": "1.2.0",
            "_view_name": "StyleView",
            "description_width": ""
          }
        },
        "d85c40129fc448b389ce29dae1f8078c": {
          "model_module": "@jupyter-widgets/controls",
          "model_module_version": "1.5.0",
          "model_name": "HTMLModel",
          "state": {
            "_dom_classes": [],
            "_model_module": "@jupyter-widgets/controls",
            "_model_module_version": "1.5.0",
            "_model_name": "HTMLModel",
            "_view_count": null,
            "_view_module": "@jupyter-widgets/controls",
            "_view_module_version": "1.5.0",
            "_view_name": "HTMLView",
            "description": "",
            "description_tooltip": null,
            "layout": "IPY_MODEL_7b6b9cec48104683b54276e299cf6dfa",
            "placeholder": "​",
            "style": "IPY_MODEL_60f5d79bd91f425db38fc5992bc27bfb",
            "value": " 7/7 [00:11&lt;00:00,  1.32s/it]"
          }
        },
        "db84e419e48d40b39e675e3d9b29159a": {
          "model_module": "@jupyter-widgets/controls",
          "model_module_version": "1.5.0",
          "model_name": "DescriptionStyleModel",
          "state": {
            "_model_module": "@jupyter-widgets/controls",
            "_model_module_version": "1.5.0",
            "_model_name": "DescriptionStyleModel",
            "_view_count": null,
            "_view_module": "@jupyter-widgets/base",
            "_view_module_version": "1.2.0",
            "_view_name": "StyleView",
            "description_width": ""
          }
        },
        "e0753487066a4b31a966bb468a099217": {
          "model_module": "@jupyter-widgets/controls",
          "model_module_version": "1.5.0",
          "model_name": "HBoxModel",
          "state": {
            "_dom_classes": [],
            "_model_module": "@jupyter-widgets/controls",
            "_model_module_version": "1.5.0",
            "_model_name": "HBoxModel",
            "_view_count": null,
            "_view_module": "@jupyter-widgets/controls",
            "_view_module_version": "1.5.0",
            "_view_name": "HBoxView",
            "box_style": "",
            "children": [
              "IPY_MODEL_bd710cf40190453183a9c14f63be0398",
              "IPY_MODEL_bce9eb87f76547feb97c3b1f32f23c93",
              "IPY_MODEL_4b2b9a0d5b8e487dbe4c3fd1b0039933"
            ],
            "layout": "IPY_MODEL_c10d4c94a6df4389baf3ea49cf246876"
          }
        },
        "e384fa43ecfb44868dfc404a8a13290b": {
          "model_module": "@jupyter-widgets/controls",
          "model_module_version": "1.5.0",
          "model_name": "ProgressStyleModel",
          "state": {
            "_model_module": "@jupyter-widgets/controls",
            "_model_module_version": "1.5.0",
            "_model_name": "ProgressStyleModel",
            "_view_count": null,
            "_view_module": "@jupyter-widgets/base",
            "_view_module_version": "1.2.0",
            "_view_name": "StyleView",
            "bar_color": null,
            "description_width": ""
          }
        },
        "e3cfb79798594aa0b1a68817ea009f67": {
          "model_module": "@jupyter-widgets/controls",
          "model_module_version": "1.5.0",
          "model_name": "FloatProgressModel",
          "state": {
            "_dom_classes": [],
            "_model_module": "@jupyter-widgets/controls",
            "_model_module_version": "1.5.0",
            "_model_name": "FloatProgressModel",
            "_view_count": null,
            "_view_module": "@jupyter-widgets/controls",
            "_view_module_version": "1.5.0",
            "_view_name": "ProgressView",
            "bar_style": "",
            "description": "",
            "description_tooltip": null,
            "layout": "IPY_MODEL_a69eb01ad3724379a299eded6954b1b0",
            "max": 85,
            "min": 0,
            "orientation": "horizontal",
            "style": "IPY_MODEL_c86351e4ff2f4e7e889fe04fb954d41b",
            "value": 85
          }
        },
        "e5310fcf43ae4f739cf0ca0049ebdd17": {
          "model_module": "@jupyter-widgets/base",
          "model_module_version": "1.2.0",
          "model_name": "LayoutModel",
          "state": {
            "_model_module": "@jupyter-widgets/base",
            "_model_module_version": "1.2.0",
            "_model_name": "LayoutModel",
            "_view_count": null,
            "_view_module": "@jupyter-widgets/base",
            "_view_module_version": "1.2.0",
            "_view_name": "LayoutView",
            "align_content": null,
            "align_items": null,
            "align_self": null,
            "border": null,
            "bottom": null,
            "display": null,
            "flex": null,
            "flex_flow": null,
            "grid_area": null,
            "grid_auto_columns": null,
            "grid_auto_flow": null,
            "grid_auto_rows": null,
            "grid_column": null,
            "grid_gap": null,
            "grid_row": null,
            "grid_template_areas": null,
            "grid_template_columns": null,
            "grid_template_rows": null,
            "height": null,
            "justify_content": null,
            "justify_items": null,
            "left": null,
            "margin": null,
            "max_height": null,
            "max_width": null,
            "min_height": null,
            "min_width": null,
            "object_fit": null,
            "object_position": null,
            "order": null,
            "overflow": null,
            "overflow_x": null,
            "overflow_y": null,
            "padding": null,
            "right": null,
            "top": null,
            "visibility": "hidden",
            "width": null
          }
        },
        "ec0b5b10d0944fb583ed9dc5d8256c9b": {
          "model_module": "@jupyter-widgets/base",
          "model_module_version": "1.2.0",
          "model_name": "LayoutModel",
          "state": {
            "_model_module": "@jupyter-widgets/base",
            "_model_module_version": "1.2.0",
            "_model_name": "LayoutModel",
            "_view_count": null,
            "_view_module": "@jupyter-widgets/base",
            "_view_module_version": "1.2.0",
            "_view_name": "LayoutView",
            "align_content": null,
            "align_items": null,
            "align_self": null,
            "border": null,
            "bottom": null,
            "display": null,
            "flex": null,
            "flex_flow": null,
            "grid_area": null,
            "grid_auto_columns": null,
            "grid_auto_flow": null,
            "grid_auto_rows": null,
            "grid_column": null,
            "grid_gap": null,
            "grid_row": null,
            "grid_template_areas": null,
            "grid_template_columns": null,
            "grid_template_rows": null,
            "height": null,
            "justify_content": null,
            "justify_items": null,
            "left": null,
            "margin": null,
            "max_height": null,
            "max_width": null,
            "min_height": null,
            "min_width": null,
            "object_fit": null,
            "object_position": null,
            "order": null,
            "overflow": null,
            "overflow_x": null,
            "overflow_y": null,
            "padding": null,
            "right": null,
            "top": null,
            "visibility": null,
            "width": null
          }
        },
        "ede483e78f4c490cb6d361a490b28853": {
          "model_module": "@jupyter-widgets/controls",
          "model_module_version": "1.5.0",
          "model_name": "DescriptionStyleModel",
          "state": {
            "_model_module": "@jupyter-widgets/controls",
            "_model_module_version": "1.5.0",
            "_model_name": "DescriptionStyleModel",
            "_view_count": null,
            "_view_module": "@jupyter-widgets/base",
            "_view_module_version": "1.2.0",
            "_view_name": "StyleView",
            "description_width": ""
          }
        },
        "fd5b6efbc8144fa79524a7ac44f850d3": {
          "model_module": "@jupyter-widgets/controls",
          "model_module_version": "1.5.0",
          "model_name": "FloatProgressModel",
          "state": {
            "_dom_classes": [],
            "_model_module": "@jupyter-widgets/controls",
            "_model_module_version": "1.5.0",
            "_model_name": "FloatProgressModel",
            "_view_count": null,
            "_view_module": "@jupyter-widgets/controls",
            "_view_module_version": "1.5.0",
            "_view_name": "ProgressView",
            "bar_style": "",
            "description": "",
            "description_tooltip": null,
            "layout": "IPY_MODEL_a77a8f446ec342b9a55c6489163ad61a",
            "max": 7,
            "min": 0,
            "orientation": "horizontal",
            "style": "IPY_MODEL_e384fa43ecfb44868dfc404a8a13290b",
            "value": 7
          }
        },
        "fd97cf2281d74da7af5afcacb8a038ad": {
          "model_module": "@jupyter-widgets/controls",
          "model_module_version": "1.5.0",
          "model_name": "ProgressStyleModel",
          "state": {
            "_model_module": "@jupyter-widgets/controls",
            "_model_module_version": "1.5.0",
            "_model_name": "ProgressStyleModel",
            "_view_count": null,
            "_view_module": "@jupyter-widgets/base",
            "_view_module_version": "1.2.0",
            "_view_name": "StyleView",
            "bar_color": null,
            "description_width": ""
          }
        }
      }
    }
  },
  "nbformat": 4,
  "nbformat_minor": 5
}
